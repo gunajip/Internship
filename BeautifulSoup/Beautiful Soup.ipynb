{
 "cells": [
  {
   "cell_type": "markdown",
   "id": "7e74ed05",
   "metadata": {},
   "source": [
    "# 1. Write a python program to display IMDB’s Top rated 100 Indian movies’ data"
   ]
  },
  {
   "cell_type": "code",
   "execution_count": 2,
   "id": "632b5091",
   "metadata": {},
   "outputs": [],
   "source": [
    "from bs4 import BeautifulSoup\n",
    "import requests\n"
   ]
  },
  {
   "cell_type": "code",
   "execution_count": 30,
   "id": "dde22e9e",
   "metadata": {},
   "outputs": [],
   "source": [
    "page = requests.get('https://www.imdb.com/list/ls056092300/')\n",
    "soup = BeautifulSoup(page.content)"
   ]
  },
  {
   "cell_type": "code",
   "execution_count": 33,
   "id": "6da6046c",
   "metadata": {},
   "outputs": [
    {
     "name": "stdout",
     "output_type": "stream",
     "text": [
      "['Ship of Theseus', 'Iruvar', 'Kaagaz Ke Phool', 'Lagaan: Once Upon a Time in India', 'Pather Panchali', 'Charulata', 'Rang De Basanti', 'Dev.D', '3 Idiots', 'Awaara', 'Nayakan', 'Aparajito', 'Pushpaka Vimana', 'Pyaasa', 'Ghatashraddha', 'Sholay', 'Aradhana', 'Do Ankhen Barah Haath', 'Bombay', 'Neecha Nagar', 'Do Bigha Zamin', 'Garm Hava', 'Piravi', 'Mughal-E-Azam', 'Amma Ariyan', 'Madhumati', 'Goopy Gyne Bagha Byne', 'Gangs of Wasseypur', 'Guide', 'Satya', 'Roja', 'Mr. India', 'The Cloud-Capped Star', 'Harishchandrachi Factory', 'Masoom', 'Agneepath', 'Tabarana Kathe', 'Zakhm', 'Dil Chahta Hai', 'Bhaag Milkha Bhaag', 'Chupke Chupke', 'Dilwale Dulhania Le Jayenge', 'Taare Zameen Par', 'Ardh Satya', 'Bhumika', 'Enthiran', 'Sadma', 'Shwaas', 'Lamhe', 'Haqeeqat', 'Shree 420', 'Kannathil Muthamittal', 'Hum Aapke Hain Koun..!', 'Ustad Hotel', 'Bandit Queen', 'Lakshya', 'Black Friday', 'Manthan', 'Apoorva Raagangal', 'English Vinglish', 'Jewel Thief', 'Pakeezah', 'Maqbool', 'Jis Desh Men Ganga Behti Hai', 'Sahib Bibi Aur Ghulam', 'Shatranj Ke Khilari', 'Narthanasala', 'Chandni Bar', 'Vaaranam Aayiram', 'Mr. and Mrs. Iyer', 'Chandni', 'English, August', 'Celluloid', 'Sagara Sangamam', 'Munna Bhai M.B.B.S.', 'Saaransh', 'Guddi', 'Vanaja', 'Vazhakku Enn 18/9', 'Gangaajal', 'Angoor', 'Guru', 'Andaz Apna Apna', 'Sangam', 'Oka Oori Katha', 'Bhuvan Shome', 'Border', 'Parineeta', 'Devdas', 'Abohomaan', 'Kuch Kuch Hota Hai', 'Pithamagan', 'Veyyil', 'Chemmeen', 'Jaane Bhi Do Yaaro', 'Apur Sansar', 'Kanchivaram', 'Monsoon Wedding', 'Black', 'Deewaar']\n"
     ]
    }
   ],
   "source": [
    "movie_data = soup.find_all('div', class_='lister-item mode-detail')\n",
    "names = []\n",
    "\n",
    "for movie in movie_data:\n",
    "    name = movie.find('h3', class_='lister-item-header').a.text.strip()\n",
    "    names.append(name)\n",
    "print(names)\n"
   ]
  },
  {
   "cell_type": "code",
   "execution_count": null,
   "id": "49855dce",
   "metadata": {},
   "outputs": [],
   "source": [
    "\n"
   ]
  },
  {
   "cell_type": "code",
   "execution_count": 24,
   "id": "16f0bdc6",
   "metadata": {},
   "outputs": [
    {
     "name": "stdout",
     "output_type": "stream",
     "text": [
      "['8', '8.4', '7.8', '8.1', '8.2', '8.1', '8.1', '7.9', '8.4', '7.8', '8.7', '8.2', '8.6', '8.3', '7.6', '8.1', '7.6', '8.4', '8.1', '6.6', '8.3', '8', '7.8', '8.1', '7.4', '7.8', '8.7', '8.2', '8.3', '8.3', '8.1', '7.7', '7.8', '8.4', '8.4', '7.6', '8.1', '7.9', '8.1', '8.2', '8.3', '8', '8.3', '8.1', '7.4', '7.1', '8.3', '8.2', '7.2', '7.8', '7.9', '8.3', '7.5', '8.2', '7.5', '7.8', '8.4', '7.6', '7.6', '7.8', '7.9', '7.2', '8', '7.1', '8.1', '7.5', '8.1', '7.6', '8.2', '7.9', '6.7', '7.7', '7.7', '8.8', '8.1', '8.1', '7.2', '7.2', '8.3', '7.8', '8.3', '7.7', '8', '7.3', '7.8', '7.2', '7.9', '7.2', '7.7', '7.5', '7.5', '8.3', '7.9', '7.8', '8.3', '8.4', '8.2', '7.3', '8.1', '8']\n"
     ]
    }
   ],
   "source": [
    "ratings = []\n",
    "\n",
    "for movie in movie_data:\n",
    "    rating = movie.find('span', class_='ipl-rating-star__rating').text.strip()\n",
    "    ratings.append(rating)\n",
    "\n",
    "print(ratings)\n",
    "\n"
   ]
  },
  {
   "cell_type": "code",
   "execution_count": 17,
   "id": "ffc594b9",
   "metadata": {},
   "outputs": [
    {
     "data": {
      "text/html": [
       "<div>\n",
       "<style scoped>\n",
       "    .dataframe tbody tr th:only-of-type {\n",
       "        vertical-align: middle;\n",
       "    }\n",
       "\n",
       "    .dataframe tbody tr th {\n",
       "        vertical-align: top;\n",
       "    }\n",
       "\n",
       "    .dataframe thead th {\n",
       "        text-align: right;\n",
       "    }\n",
       "</style>\n",
       "<table border=\"1\" class=\"dataframe\">\n",
       "  <thead>\n",
       "    <tr style=\"text-align: right;\">\n",
       "      <th></th>\n",
       "      <th>Movie Name</th>\n",
       "      <th>Year Of Release</th>\n",
       "      <th>Ratings</th>\n",
       "    </tr>\n",
       "  </thead>\n",
       "  <tbody>\n",
       "    <tr>\n",
       "      <th>1</th>\n",
       "      <td>Ship of Theseus</td>\n",
       "      <td>2012</td>\n",
       "      <td>8</td>\n",
       "    </tr>\n",
       "    <tr>\n",
       "      <th>2</th>\n",
       "      <td>Iruvar</td>\n",
       "      <td>1997</td>\n",
       "      <td>8.4</td>\n",
       "    </tr>\n",
       "    <tr>\n",
       "      <th>3</th>\n",
       "      <td>Kaagaz Ke Phool</td>\n",
       "      <td>1959</td>\n",
       "      <td>7.8</td>\n",
       "    </tr>\n",
       "    <tr>\n",
       "      <th>4</th>\n",
       "      <td>Lagaan: Once Upon a Time in India</td>\n",
       "      <td>2001</td>\n",
       "      <td>8.1</td>\n",
       "    </tr>\n",
       "    <tr>\n",
       "      <th>5</th>\n",
       "      <td>Pather Panchali</td>\n",
       "      <td>1955</td>\n",
       "      <td>8.2</td>\n",
       "    </tr>\n",
       "    <tr>\n",
       "      <th>...</th>\n",
       "      <td>...</td>\n",
       "      <td>...</td>\n",
       "      <td>...</td>\n",
       "    </tr>\n",
       "    <tr>\n",
       "      <th>96</th>\n",
       "      <td>Apur Sansar</td>\n",
       "      <td>1959</td>\n",
       "      <td>8.4</td>\n",
       "    </tr>\n",
       "    <tr>\n",
       "      <th>97</th>\n",
       "      <td>Kanchivaram</td>\n",
       "      <td>2008</td>\n",
       "      <td>8.2</td>\n",
       "    </tr>\n",
       "    <tr>\n",
       "      <th>98</th>\n",
       "      <td>Monsoon Wedding</td>\n",
       "      <td>2001</td>\n",
       "      <td>7.3</td>\n",
       "    </tr>\n",
       "    <tr>\n",
       "      <th>99</th>\n",
       "      <td>Black</td>\n",
       "      <td>2005</td>\n",
       "      <td>8.1</td>\n",
       "    </tr>\n",
       "    <tr>\n",
       "      <th>100</th>\n",
       "      <td>Deewaar</td>\n",
       "      <td>1975</td>\n",
       "      <td>8</td>\n",
       "    </tr>\n",
       "  </tbody>\n",
       "</table>\n",
       "<p>100 rows × 3 columns</p>\n",
       "</div>"
      ],
      "text/plain": [
       "                            Movie Name Year Of Release Ratings\n",
       "1                      Ship of Theseus            2012       8\n",
       "2                               Iruvar            1997     8.4\n",
       "3                      Kaagaz Ke Phool            1959     7.8\n",
       "4    Lagaan: Once Upon a Time in India            2001     8.1\n",
       "5                      Pather Panchali            1955     8.2\n",
       "..                                 ...             ...     ...\n",
       "96                         Apur Sansar            1959     8.4\n",
       "97                         Kanchivaram            2008     8.2\n",
       "98                     Monsoon Wedding            2001     7.3\n",
       "99                               Black            2005     8.1\n",
       "100                            Deewaar            1975       8\n",
       "\n",
       "[100 rows x 3 columns]"
      ]
     },
     "execution_count": 17,
     "metadata": {},
     "output_type": "execute_result"
    }
   ],
   "source": [
    "import pandas as pd\n",
    "df = pd.DataFrame({'Movie Name':names, 'Year Of Release':years, 'Ratings':ratings})\n",
    "df.index+=1\n",
    "df\n"
   ]
  },
  {
   "cell_type": "code",
   "execution_count": null,
   "id": "9679e07c",
   "metadata": {},
   "outputs": [],
   "source": [
    "\n",
    "\n",
    "\n"
   ]
  },
  {
   "cell_type": "markdown",
   "id": "7708e791",
   "metadata": {},
   "source": [
    "# Write a python program to scrape first 10 product details which include product name , price , Image URL from\n",
    "https://www.bewakoof.com/bestseller?sort=popular ."
   ]
  },
  {
   "cell_type": "code",
   "execution_count": 3,
   "id": "51dc7021",
   "metadata": {},
   "outputs": [],
   "source": [
    "page2 = requests.get('https://www.bewakoof.com/bestseller?sort=popular%20.')\n",
    "soup2 = BeautifulSoup(page2.content,'html.parser')"
   ]
  },
  {
   "cell_type": "code",
   "execution_count": 4,
   "id": "9d4febf2",
   "metadata": {},
   "outputs": [
    {
     "data": {
      "text/plain": [
       "<Response [200]>"
      ]
     },
     "execution_count": 4,
     "metadata": {},
     "output_type": "execute_result"
    }
   ],
   "source": [
    "page2"
   ]
  },
  {
   "cell_type": "code",
   "execution_count": 5,
   "id": "9e464a9d",
   "metadata": {},
   "outputs": [
    {
     "data": {
      "text/plain": [
       "10"
      ]
     },
     "execution_count": 5,
     "metadata": {},
     "output_type": "execute_result"
    }
   ],
   "source": [
    "class_data = soup2.find_all('div', class_='plp-product-card')\n",
    "len(class_data)"
   ]
  },
  {
   "cell_type": "code",
   "execution_count": 61,
   "id": "4d51362b",
   "metadata": {},
   "outputs": [
    {
     "name": "stdout",
     "output_type": "stream",
     "text": [
      "[\"Men's Purple Peace Seeker Graphic Printed Boxy Fit Vest\", \"Men's Black Oversized Cargo Joggers\", \"Men's Black Cyber Punk Graphic Printed Oversized T-shirt\", \"Men's Blue Beetle Graphic Printed T-shirt\", \"Women's Purple Deja Moo Graphic Printed Oversized T-shirt\", \"Men's Black Johnny Biker Graphic Printed Oversized T-shirt\", \"Women's Brown Never Give Up Graphic Printed Oversized T-shirt\", \"Women's Blue Baggy Wide Leg Jeans\", \"Women's White Boyfriend Plus Size T-shirt\", \"Women's Pink Living in Paradise Graphic Printed Boyfriend T-shirt\"]\n"
     ]
    }
   ],
   "source": [
    "titles = []\n",
    "\n",
    "for i in class_data:\n",
    "    title = i.find('h2')\n",
    "    titles.append(title.text)\n",
    "\n",
    "print(titles)\n",
    "\n",
    "  "
   ]
  },
  {
   "cell_type": "code",
   "execution_count": 41,
   "id": "3ecf62ed",
   "metadata": {},
   "outputs": [],
   "source": [
    "links = soup2.find_all('a', attrs={'class':'col-sm-4 col-xs-6 px-2'})"
   ]
  },
  {
   "cell_type": "code",
   "execution_count": 49,
   "id": "82cdcf5b",
   "metadata": {},
   "outputs": [],
   "source": [
    "link = links[0].get('href')"
   ]
  },
  {
   "cell_type": "code",
   "execution_count": 52,
   "id": "4055baba",
   "metadata": {},
   "outputs": [
    {
     "data": {
      "text/plain": [
       "'https://www.bewakoof.com/p/mens-purple-peace-seeker-graphic-printed-boxy-fit-vest'"
      ]
     },
     "execution_count": 52,
     "metadata": {},
     "output_type": "execute_result"
    }
   ],
   "source": [
    "list= \"https://www.bewakoof.com\"+ link\n",
    "list"
   ]
  },
  {
   "cell_type": "code",
   "execution_count": 63,
   "id": "dfce7b8a",
   "metadata": {},
   "outputs": [
    {
     "name": "stdout",
     "output_type": "stream",
     "text": [
      "['https://www.bewakoof.com/p/mens-purple-peace-seeker-graphic-printed-boxy-fit-vest', 'https://www.bewakoof.com/p/mens-black-beauty-solid-oversized-fit-cargo-jogger-men-black', 'https://www.bewakoof.com/p/mens-black-cyber-punk-graphic-printed-oversized-t-shirt', 'https://www.bewakoof.com/p/mens-blue-blue-beetle-graphic-printed-t-shirt', 'https://www.bewakoof.com/p/womens-purple-deja-moo-graphic-printed-oversized-t-shirt', 'https://www.bewakoof.com/p/men-johnny-biker-oversized-graphic-printed-t-shirt', 'https://www.bewakoof.com/p/womens-brown-never-give-up-graphic-printed-oversized-t-shirt', 'https://www.bewakoof.com/p/womens-light-blue-high-waist-denim', 'https://www.bewakoof.com/p/plain-boyfriend-t-shirt-plus-size', 'https://www.bewakoof.com/p/womens-pink-living-in-paradise-graphic-print-boyfriend-t-shirt']\n"
     ]
    }
   ],
   "source": [
    "links = soup2.find_all('a', attrs={'class': 'col-sm-4 col-xs-6 px-2'})\n",
    "\n",
    "full_links = []\n",
    "\n",
    "for link in links:\n",
    "    href = link.get('href')\n",
    "    full_link = \"https://www.bewakoof.com\" + href\n",
    "    full_links.append(full_link)\n",
    "print(full_links)\n"
   ]
  },
  {
   "cell_type": "code",
   "execution_count": 73,
   "id": "fbb28272",
   "metadata": {},
   "outputs": [
    {
     "data": {
      "text/plain": [
       "[]"
      ]
     },
     "execution_count": 73,
     "metadata": {},
     "output_type": "execute_result"
    }
   ],
   "source": [
    "prices = soup2.find_all('span', attrs={'discountedPriceText clr-p-black   false  '})\n",
    "\n",
    "dprice = []\n",
    "\n",
    "for price in prices:\n",
    "    p=price.get('span')\n",
    "    dprice.append.p\n",
    "dprice\n"
   ]
  },
  {
   "cell_type": "code",
   "execution_count": 66,
   "id": "21de788a",
   "metadata": {},
   "outputs": [
    {
     "name": "stdout",
     "output_type": "stream",
     "text": [
      "[]\n"
     ]
    }
   ],
   "source": [
    "prices = soup2.find_all('div', attrs={'class': 'discountedPriceText clr-p-black'})\n",
    "\n",
    "dprice = []\n",
    "\n",
    "for price in prices:\n",
    "    dprice.append(price.text)\n",
    "\n",
    "print(dprice)\n"
   ]
  },
  {
   "cell_type": "code",
   "execution_count": null,
   "id": "197cad12",
   "metadata": {},
   "outputs": [],
   "source": []
  },
  {
   "cell_type": "code",
   "execution_count": 72,
   "id": "41b1033c",
   "metadata": {},
   "outputs": [
    {
     "name": "stdout",
     "output_type": "stream",
     "text": [
      "None\n"
     ]
    }
   ],
   "source": [
    "\n",
    "price_div = soup2.find('div', class_='discountedPriceText clr-p-black')\n",
    "\n",
    "\n",
    "price = price_div\n",
    "print(price)\n"
   ]
  },
  {
   "cell_type": "code",
   "execution_count": 87,
   "id": "21450212",
   "metadata": {},
   "outputs": [],
   "source": [
    "prices = soup2.find_all('span', attrs={'class': 'discountedPriceText clr-p-black   false  '})\n",
    "\n",
    "for price in prices:\n",
    "    spans = price.find_all('span')\n",
    "    for span in spans:\n",
    "        print(span.text)\n"
   ]
  },
  {
   "cell_type": "code",
   "execution_count": 88,
   "id": "2d252e4b",
   "metadata": {
    "scrolled": true
   },
   "outputs": [
    {
     "data": {
      "text/plain": [
       "[]"
      ]
     },
     "execution_count": 88,
     "metadata": {},
     "output_type": "execute_result"
    }
   ],
   "source": [
    "prices"
   ]
  },
  {
   "cell_type": "code",
   "execution_count": null,
   "id": "f8615754",
   "metadata": {},
   "outputs": [],
   "source": []
  },
  {
   "cell_type": "markdown",
   "id": "aac221b7",
   "metadata": {},
   "source": [
    "# Write a python program to scrape details of all the posts from https://www.patreon.com/coreyms .Scrape the\n",
    "heading, date, content and the likes for the video from the link for the youtube video from the post."
   ]
  },
  {
   "cell_type": "code",
   "execution_count": 90,
   "id": "51fb80dc",
   "metadata": {},
   "outputs": [],
   "source": [
    "page4 = requests.get('https://www.patreon.com/coreyms')\n",
    "soup4 = BeautifulSoup(page4.content,'html.parser')"
   ]
  },
  {
   "cell_type": "code",
   "execution_count": 91,
   "id": "6a2d2233",
   "metadata": {},
   "outputs": [
    {
     "data": {
      "text/plain": [
       "<Response [200]>"
      ]
     },
     "execution_count": 91,
     "metadata": {},
     "output_type": "execute_result"
    }
   ],
   "source": [
    "page4"
   ]
  },
  {
   "cell_type": "code",
   "execution_count": 96,
   "id": "29f97bba",
   "metadata": {},
   "outputs": [],
   "source": [
    "page_data = soup4.find_all('div', class_=\"sc-xg7a7d-0 jJOVvL\")"
   ]
  },
  {
   "cell_type": "code",
   "execution_count": 97,
   "id": "3458dc1d",
   "metadata": {},
   "outputs": [
    {
     "data": {
      "text/plain": [
       "[]"
      ]
     },
     "execution_count": 97,
     "metadata": {},
     "output_type": "execute_result"
    }
   ],
   "source": [
    "page_data"
   ]
  },
  {
   "cell_type": "code",
   "execution_count": 123,
   "id": "1ecb56be",
   "metadata": {},
   "outputs": [],
   "source": [
    "links4 = soup4.find_all('a', clas\n",
    "links4\n"
   ]
  },
  {
   "cell_type": "code",
   "execution_count": 126,
   "id": "ca721037",
   "metadata": {},
   "outputs": [
    {
     "name": "stdout",
     "output_type": "stream",
     "text": [
      "['Skip navigation', 'Patreon logo', 'Log in', '', 'Patreon logo', '', 'Log in', '', '', '', 'Home', 'About', 'Join', 'Join', 'Join', 'Join', 'Create on Patreon']\n"
     ]
    }
   ],
   "source": [
    "import requests\n",
    "from bs4 import BeautifulSoup\n",
    "\n",
    "# URL of the page you want to scrape\n",
    "url = \"https://www.patreon.com/coreyms\"\n",
    "\n",
    "# Send a GET request to the URL and fetch its HTML content\n",
    "response = requests.get(url)\n",
    "html_content = response.content\n",
    "\n",
    "# Parse the HTML content using BeautifulSoup\n",
    "soup = BeautifulSoup(html_content, 'html.parser')\n",
    "\n",
    "# Find all <a> tags containing titles\n",
    "title_tags = soup.find_all('a')\n",
    "\n",
    "# Extract the text content of each <a> tag\n",
    "titles = [title_tag.text for title_tag in title_tags]\n",
    "\n",
    "print(titles)\n"
   ]
  },
  {
   "cell_type": "code",
   "execution_count": null,
   "id": "aad44e88",
   "metadata": {},
   "outputs": [],
   "source": []
  },
  {
   "cell_type": "code",
   "execution_count": null,
   "id": "bcd97d7c",
   "metadata": {},
   "outputs": [],
   "source": []
  },
  {
   "cell_type": "code",
   "execution_count": 124,
   "id": "be6e43bb",
   "metadata": {},
   "outputs": [],
   "source": []
  },
  {
   "cell_type": "code",
   "execution_count": null,
   "id": "dcb6c406",
   "metadata": {},
   "outputs": [],
   "source": []
  },
  {
   "cell_type": "code",
   "execution_count": null,
   "id": "c07db97d",
   "metadata": {},
   "outputs": [],
   "source": []
  },
  {
   "cell_type": "code",
   "execution_count": null,
   "id": "aeab8853",
   "metadata": {},
   "outputs": [],
   "source": []
  },
  {
   "cell_type": "code",
   "execution_count": null,
   "id": "163dafa8",
   "metadata": {},
   "outputs": [],
   "source": []
  },
  {
   "cell_type": "code",
   "execution_count": null,
   "id": "0a0dec7c",
   "metadata": {},
   "outputs": [],
   "source": []
  },
  {
   "cell_type": "markdown",
   "id": "7c9610fc",
   "metadata": {},
   "source": [
    "# Please visit https://www.cnbc.com/world/?region=world and scrap"
   ]
  },
  {
   "cell_type": "code",
   "execution_count": null,
   "id": "00b0767e",
   "metadata": {},
   "outputs": [],
   "source": []
  },
  {
   "cell_type": "code",
   "execution_count": 27,
   "id": "f6f5d793",
   "metadata": {},
   "outputs": [
    {
     "data": {
      "text/plain": [
       "<Response [200]>"
      ]
     },
     "execution_count": 27,
     "metadata": {},
     "output_type": "execute_result"
    }
   ],
   "source": [
    "import requests\n",
    "from bs4 import BeautifulSoup\n",
    "\n",
    "page1 = requests.get('https://www.cnbc.com/world/?region=world')\n",
    "soup1 = BeautifulSoup(page1.content, 'html.parser')\n",
    "\n",
    "\n",
    "page1\n"
   ]
  },
  {
   "cell_type": "code",
   "execution_count": null,
   "id": "234c26dd",
   "metadata": {},
   "outputs": [],
   "source": [
    "\n"
   ]
  },
  {
   "cell_type": "code",
   "execution_count": 37,
   "id": "93f699bc",
   "metadata": {},
   "outputs": [
    {
     "name": "stdout",
     "output_type": "stream",
     "text": [
      "[\"Oil refinery in Russia's Krasnodar region damaged in Ukraine drone attack, authorities say\", \"Google is 'going on the offensive:' What analysts are saying after latest Alphabet earnings\", 'Compensation deal agreed for Slot to join Liverpool from Feyenoord', \"Intel used to dominate the U.S. chip industry. Now it's struggling to stay relevant\", 'Britain’s King Charles III will resume public duties next week after cancer treatment, palace says', \"U.S. regulator finds Tesla Autopilot has 'critical safety gap' linked to hundreds of collisions\", 'Dividend stocks are poised to outperform, says Bank of America. Here are names on its list', 'Meet the Dubai artist whose work has sold for millions — and turns down 99% of prospective buyers', 'The new class war: A wealth gap between millennials', 'UK tech darling Darktrace rallies after agreeing $5.32 billion sale to private equity firm Thoma Bravo', 'Alphabet and Chipotle are among the most overbought names on Wall Street. Here are the others', 'American Airlines cuts some international flights into 2025, citing Boeing delivery delays', 'Airbus CFO says A350 plane production increase not tied to Boeing troubles', 'Elliott takes $1 billion stake in Anglo American as miner faces takeover interest', \"Anglo American rejects BHP's $39 billion takeover bid to form mining juggernaut\", 'Long-awaited $2 billion CVC debut shows the IPO market is back on track, Euronext boss says', \"China's Xi says the U.S. needs to accept Beijing's rise for bilateral relations to improve\", \"Geely-backed luxury EV brand Zeekr says it's already beating Tesla in parts of China\", \"Ukraine can keep on fighting Russia — but the 'victory' it wants might be out of reach\", 'Chinese EV start-ups Nio and Xpeng turn to the mass market for growth']\n"
     ]
    }
   ],
   "source": [
    "head = []\n",
    "\n",
    "for item in soup1.find_all('div', class_='RiverHeadline-headline RiverHeadline-hasThumbnail'):\n",
    "    title = item.text.strip()\n",
    "    head.append(title)\n",
    "\n",
    "print(head)"
   ]
  },
  {
   "cell_type": "code",
   "execution_count": 77,
   "id": "518f64ed",
   "metadata": {},
   "outputs": [
    {
     "name": "stdout",
     "output_type": "stream",
     "text": [
      "['https://www.cnbc.com/2024/04/27/oil-refinery-in-russia-region-damaged-in-ukraine-drone-attack-authorities.html', '/pro/', 'https://www.cnbc.com/2024/04/26/google-is-going-on-the-offensive-what-analysts-are-saying-after-latest-alphabet-earnings.html', 'https://www.cnbc.com/2024/04/27/arne-slot-to-liverpool-compensation-deal-agreed-for-feyenoord-boss.html', 'https://www.cnbc.com/2024/04/26/intel-dominated-us-chip-industry-now-struggling-to-stay-relevant.html', 'https://www.cnbc.com/2024/04/26/britains-king-charles-iii-will-resume-public-duties-next-week-after-cancer-treatment-palace-says.html', 'https://www.cnbc.com/2024/04/26/tesla-autopilot-linked-to-hundreds-of-collisions-has-critical-safety-gap-nhtsa.html', '/pro/', 'https://www.cnbc.com/2024/04/26/dividend-stocks-are-poised-to-outperform-says-bank-of-america-.html', 'https://www.cnbc.com/2024/04/26/sacha-jafri-the-dubai-artist-whose-work-has-sold-for-millions.html', 'https://www.cnbc.com/2024/04/26/wealth-gap-between-millennials-new-class-war.html', 'https://www.cnbc.com/2024/04/26/uk-tech-darling-darktrace-rallies-after-agreeing-5point32-billion-sale-to-private-equity-firm-thoma-bravo.html', '/pro/', 'https://www.cnbc.com/2024/04/26/alphabet-chipotle-among-the-most-overbought-names-on-wall-street-here-are-the-others.html', 'https://www.cnbc.com/2024/04/26/american-airlines-cuts-some-international-flights-citing-boeing-delays.html', 'https://www.cnbc.com/2024/04/26/airbus-cfo-says-a350-plane-production-increase-not-tied-to-boeing-troubles.html', 'https://www.cnbc.com/2024/04/26/elliott-builds-anglo-american-stake-as-miner-faces-takeover.html', 'https://www.cnbc.com/2024/04/26/anglo-american-rejects-bhps-39-billion-takeover-bid-to-form-mining-juggernaut.html', 'https://www.cnbc.com/2024/04/26/euronext-boss-says-long-awaited-cvc-debut-shows-the-ipo-market-is-back.html', 'https://www.cnbc.com/2024/04/26/us-china-blinken-stresses-need-to-avoid-miscalculations.html', 'https://www.cnbc.com/2024/04/25/geely-backed-luxury-ev-brand-zeekr-says-its-beating-tesla-in-parts-of-china.html', 'https://www.cnbc.com/2024/04/26/the-victory-ukraine-wants-over-russia-might-not-be-achievable.html', 'https://www.cnbc.com/2024/04/26/chinese-ev-start-ups-nio-and-xpeng-turn-to-the-mass-market-for-growth.html']\n"
     ]
    }
   ],
   "source": [
    "links = [link['href'] for link in soup1.select('div.RiverHeadline-headline.RiverHeadline-hasThumbnail a[href]')]\n",
    "\n",
    "print(links)\n",
    "\n"
   ]
  },
  {
   "cell_type": "code",
   "execution_count": 76,
   "id": "49a30cc3",
   "metadata": {},
   "outputs": [
    {
     "data": {
      "text/html": [
       "<div>\n",
       "<style scoped>\n",
       "    .dataframe tbody tr th:only-of-type {\n",
       "        vertical-align: middle;\n",
       "    }\n",
       "\n",
       "    .dataframe tbody tr th {\n",
       "        vertical-align: top;\n",
       "    }\n",
       "\n",
       "    .dataframe thead th {\n",
       "        text-align: right;\n",
       "    }\n",
       "</style>\n",
       "<table border=\"1\" class=\"dataframe\">\n",
       "  <thead>\n",
       "    <tr style=\"text-align: right;\">\n",
       "      <th></th>\n",
       "      <th>headlines</th>\n",
       "      <th>links</th>\n",
       "    </tr>\n",
       "  </thead>\n",
       "  <tbody>\n",
       "    <tr>\n",
       "      <th>1</th>\n",
       "      <td>Oil refinery in Russia's Krasnodar region dama...</td>\n",
       "      <td>https://www.cnbc.com/2024/04/27/oil-refinery-i...</td>\n",
       "    </tr>\n",
       "    <tr>\n",
       "      <th>2</th>\n",
       "      <td>Google is 'going on the offensive:' What analy...</td>\n",
       "      <td>/pro/</td>\n",
       "    </tr>\n",
       "    <tr>\n",
       "      <th>3</th>\n",
       "      <td>Compensation deal agreed for Slot to join Live...</td>\n",
       "      <td>https://www.cnbc.com/2024/04/27/arne-slot-to-l...</td>\n",
       "    </tr>\n",
       "    <tr>\n",
       "      <th>4</th>\n",
       "      <td>Intel used to dominate the U.S. chip industry....</td>\n",
       "      <td>https://www.cnbc.com/2024/04/26/intel-dominate...</td>\n",
       "    </tr>\n",
       "    <tr>\n",
       "      <th>5</th>\n",
       "      <td>Britain’s King Charles III will resume public ...</td>\n",
       "      <td>https://www.cnbc.com/2024/04/26/britains-king-...</td>\n",
       "    </tr>\n",
       "    <tr>\n",
       "      <th>6</th>\n",
       "      <td>U.S. regulator finds Tesla Autopilot has 'crit...</td>\n",
       "      <td>https://www.cnbc.com/2024/04/26/tesla-autopilo...</td>\n",
       "    </tr>\n",
       "    <tr>\n",
       "      <th>7</th>\n",
       "      <td>Dividend stocks are poised to outperform, says...</td>\n",
       "      <td>/pro/</td>\n",
       "    </tr>\n",
       "    <tr>\n",
       "      <th>8</th>\n",
       "      <td>Meet the Dubai artist whose work has sold for ...</td>\n",
       "      <td>https://www.cnbc.com/2024/04/26/sacha-jafri-th...</td>\n",
       "    </tr>\n",
       "    <tr>\n",
       "      <th>9</th>\n",
       "      <td>The new class war: A wealth gap between millen...</td>\n",
       "      <td>https://www.cnbc.com/2024/04/26/wealth-gap-bet...</td>\n",
       "    </tr>\n",
       "    <tr>\n",
       "      <th>10</th>\n",
       "      <td>UK tech darling Darktrace rallies after agreei...</td>\n",
       "      <td>https://www.cnbc.com/2024/04/26/uk-tech-darlin...</td>\n",
       "    </tr>\n",
       "    <tr>\n",
       "      <th>11</th>\n",
       "      <td>Alphabet and Chipotle are among the most overb...</td>\n",
       "      <td>/pro/</td>\n",
       "    </tr>\n",
       "    <tr>\n",
       "      <th>12</th>\n",
       "      <td>American Airlines cuts some international flig...</td>\n",
       "      <td>https://www.cnbc.com/2024/04/26/american-airli...</td>\n",
       "    </tr>\n",
       "    <tr>\n",
       "      <th>13</th>\n",
       "      <td>Airbus CFO says A350 plane production increase...</td>\n",
       "      <td>https://www.cnbc.com/2024/04/26/airbus-cfo-say...</td>\n",
       "    </tr>\n",
       "    <tr>\n",
       "      <th>14</th>\n",
       "      <td>Elliott takes $1 billion stake in Anglo Americ...</td>\n",
       "      <td>https://www.cnbc.com/2024/04/26/elliott-builds...</td>\n",
       "    </tr>\n",
       "    <tr>\n",
       "      <th>15</th>\n",
       "      <td>Anglo American rejects BHP's $39 billion takeo...</td>\n",
       "      <td>https://www.cnbc.com/2024/04/26/anglo-american...</td>\n",
       "    </tr>\n",
       "    <tr>\n",
       "      <th>16</th>\n",
       "      <td>Long-awaited $2 billion CVC debut shows the IP...</td>\n",
       "      <td>https://www.cnbc.com/2024/04/26/euronext-boss-...</td>\n",
       "    </tr>\n",
       "    <tr>\n",
       "      <th>17</th>\n",
       "      <td>China's Xi says the U.S. needs to accept Beiji...</td>\n",
       "      <td>https://www.cnbc.com/2024/04/26/us-china-blink...</td>\n",
       "    </tr>\n",
       "    <tr>\n",
       "      <th>18</th>\n",
       "      <td>Geely-backed luxury EV brand Zeekr says it's a...</td>\n",
       "      <td>https://www.cnbc.com/2024/04/25/geely-backed-l...</td>\n",
       "    </tr>\n",
       "    <tr>\n",
       "      <th>19</th>\n",
       "      <td>Ukraine can keep on fighting Russia — but the ...</td>\n",
       "      <td>https://www.cnbc.com/2024/04/26/the-victory-uk...</td>\n",
       "    </tr>\n",
       "    <tr>\n",
       "      <th>20</th>\n",
       "      <td>Chinese EV start-ups Nio and Xpeng turn to the...</td>\n",
       "      <td>https://www.cnbc.com/2024/04/26/chinese-ev-sta...</td>\n",
       "    </tr>\n",
       "  </tbody>\n",
       "</table>\n",
       "</div>"
      ],
      "text/plain": [
       "                                            headlines  \\\n",
       "1   Oil refinery in Russia's Krasnodar region dama...   \n",
       "2   Google is 'going on the offensive:' What analy...   \n",
       "3   Compensation deal agreed for Slot to join Live...   \n",
       "4   Intel used to dominate the U.S. chip industry....   \n",
       "5   Britain’s King Charles III will resume public ...   \n",
       "6   U.S. regulator finds Tesla Autopilot has 'crit...   \n",
       "7   Dividend stocks are poised to outperform, says...   \n",
       "8   Meet the Dubai artist whose work has sold for ...   \n",
       "9   The new class war: A wealth gap between millen...   \n",
       "10  UK tech darling Darktrace rallies after agreei...   \n",
       "11  Alphabet and Chipotle are among the most overb...   \n",
       "12  American Airlines cuts some international flig...   \n",
       "13  Airbus CFO says A350 plane production increase...   \n",
       "14  Elliott takes $1 billion stake in Anglo Americ...   \n",
       "15  Anglo American rejects BHP's $39 billion takeo...   \n",
       "16  Long-awaited $2 billion CVC debut shows the IP...   \n",
       "17  China's Xi says the U.S. needs to accept Beiji...   \n",
       "18  Geely-backed luxury EV brand Zeekr says it's a...   \n",
       "19  Ukraine can keep on fighting Russia — but the ...   \n",
       "20  Chinese EV start-ups Nio and Xpeng turn to the...   \n",
       "\n",
       "                                                links  \n",
       "1   https://www.cnbc.com/2024/04/27/oil-refinery-i...  \n",
       "2                                               /pro/  \n",
       "3   https://www.cnbc.com/2024/04/27/arne-slot-to-l...  \n",
       "4   https://www.cnbc.com/2024/04/26/intel-dominate...  \n",
       "5   https://www.cnbc.com/2024/04/26/britains-king-...  \n",
       "6   https://www.cnbc.com/2024/04/26/tesla-autopilo...  \n",
       "7                                               /pro/  \n",
       "8   https://www.cnbc.com/2024/04/26/sacha-jafri-th...  \n",
       "9   https://www.cnbc.com/2024/04/26/wealth-gap-bet...  \n",
       "10  https://www.cnbc.com/2024/04/26/uk-tech-darlin...  \n",
       "11                                              /pro/  \n",
       "12  https://www.cnbc.com/2024/04/26/american-airli...  \n",
       "13  https://www.cnbc.com/2024/04/26/airbus-cfo-say...  \n",
       "14  https://www.cnbc.com/2024/04/26/elliott-builds...  \n",
       "15  https://www.cnbc.com/2024/04/26/anglo-american...  \n",
       "16  https://www.cnbc.com/2024/04/26/euronext-boss-...  \n",
       "17  https://www.cnbc.com/2024/04/26/us-china-blink...  \n",
       "18  https://www.cnbc.com/2024/04/25/geely-backed-l...  \n",
       "19  https://www.cnbc.com/2024/04/26/the-victory-uk...  \n",
       "20  https://www.cnbc.com/2024/04/26/chinese-ev-sta...  "
      ]
     },
     "execution_count": 76,
     "metadata": {},
     "output_type": "execute_result"
    }
   ],
   "source": [
    "df = pd.DataFrame({'headlines': head, 'links': links,})\n",
    "df.index += 1\n",
    "df"
   ]
  },
  {
   "cell_type": "code",
   "execution_count": 74,
   "id": "c53fe2a2",
   "metadata": {
    "scrolled": false
   },
   "outputs": [
    {
     "name": "stdout",
     "output_type": "stream",
     "text": [
      "                                            headlines  \\\n",
      "1   Oil refinery in Russia's Krasnodar region dama...   \n",
      "2   Google is 'going on the offensive:' What analy...   \n",
      "3   Compensation deal agreed for Slot to join Live...   \n",
      "4   Intel used to dominate the U.S. chip industry....   \n",
      "5   Britain’s King Charles III will resume public ...   \n",
      "6   U.S. regulator finds Tesla Autopilot has 'crit...   \n",
      "7   Dividend stocks are poised to outperform, says...   \n",
      "8   Meet the Dubai artist whose work has sold for ...   \n",
      "9   The new class war: A wealth gap between millen...   \n",
      "10  UK tech darling Darktrace rallies after agreei...   \n",
      "11  Alphabet and Chipotle are among the most overb...   \n",
      "12  American Airlines cuts some international flig...   \n",
      "13  Airbus CFO says A350 plane production increase...   \n",
      "14  Elliott takes $1 billion stake in Anglo Americ...   \n",
      "15  Anglo American rejects BHP's $39 billion takeo...   \n",
      "16  Long-awaited $2 billion CVC debut shows the IP...   \n",
      "17  China's Xi says the U.S. needs to accept Beiji...   \n",
      "18  Geely-backed luxury EV brand Zeekr says it's a...   \n",
      "19  Ukraine can keep on fighting Russia — but the ...   \n",
      "20  Chinese EV start-ups Nio and Xpeng turn to the...   \n",
      "\n",
      "                                                links Availablity  \n",
      "1   https://www.cnbc.com/2024/04/27/oil-refinery-i...    standard  \n",
      "2                                               /pro/     premium  \n",
      "3   https://www.cnbc.com/2024/04/27/arne-slot-to-l...    standard  \n",
      "4   https://www.cnbc.com/2024/04/26/intel-dominate...    standard  \n",
      "5   https://www.cnbc.com/2024/04/26/britains-king-...    standard  \n",
      "6   https://www.cnbc.com/2024/04/26/tesla-autopilo...    standard  \n",
      "7                                               /pro/     premium  \n",
      "8   https://www.cnbc.com/2024/04/26/sacha-jafri-th...    standard  \n",
      "9   https://www.cnbc.com/2024/04/26/wealth-gap-bet...    standard  \n",
      "10  https://www.cnbc.com/2024/04/26/uk-tech-darlin...    standard  \n",
      "11                                              /pro/     premium  \n",
      "12  https://www.cnbc.com/2024/04/26/american-airli...    standard  \n",
      "13  https://www.cnbc.com/2024/04/26/airbus-cfo-say...    standard  \n",
      "14  https://www.cnbc.com/2024/04/26/elliott-builds...    standard  \n",
      "15  https://www.cnbc.com/2024/04/26/anglo-american...    standard  \n",
      "16  https://www.cnbc.com/2024/04/26/euronext-boss-...    standard  \n",
      "17  https://www.cnbc.com/2024/04/26/us-china-blink...    standard  \n",
      "18  https://www.cnbc.com/2024/04/25/geely-backed-l...    standard  \n",
      "19  https://www.cnbc.com/2024/04/26/the-victory-uk...    standard  \n",
      "20  https://www.cnbc.com/2024/04/26/chinese-ev-sta...    standard  \n"
     ]
    }
   ],
   "source": [
    "\n",
    "premium = ['premium' if '/pro/' in link else 'standard' for link in links]\n",
    "\n",
    "df = pd.DataFrame({'headlines': head, 'links': links, 'Availablity': premium})\n",
    "df.index += 1\n",
    "df.to_excel('output2.xlsx', index_label='Index')\n",
    "\n",
    "print(df)\n"
   ]
  },
  {
   "cell_type": "code",
   "execution_count": null,
   "id": "33ab5887",
   "metadata": {},
   "outputs": [],
   "source": []
  },
  {
   "cell_type": "code",
   "execution_count": 65,
   "id": "8a4c5f17",
   "metadata": {},
   "outputs": [],
   "source": [
    "\n"
   ]
  },
  {
   "cell_type": "code",
   "execution_count": null,
   "id": "95eda747",
   "metadata": {},
   "outputs": [],
   "source": []
  }
 ],
 "metadata": {
  "kernelspec": {
   "display_name": "Python 3 (ipykernel)",
   "language": "python",
   "name": "python3"
  },
  "language_info": {
   "codemirror_mode": {
    "name": "ipython",
    "version": 3
   },
   "file_extension": ".py",
   "mimetype": "text/x-python",
   "name": "python",
   "nbconvert_exporter": "python",
   "pygments_lexer": "ipython3",
   "version": "3.11.4"
  }
 },
 "nbformat": 4,
 "nbformat_minor": 5
}
