{
 "cells": [
  {
   "cell_type": "markdown",
   "id": "667b28af",
   "metadata": {},
   "source": [
    "# Question 1- Write a Python program to replace all occurrences of a space, comma, or dot with a colon.\n",
    "\n",
    "Sample Text- 'Python Exercises, PHP exercises.'\n",
    "Expected Output: Python:Exercises::PHP:exercises:\n"
   ]
  },
  {
   "cell_type": "code",
   "execution_count": 13,
   "id": "73972c4b",
   "metadata": {},
   "outputs": [
    {
     "name": "stdout",
     "output_type": "stream",
     "text": [
      "Modified Text= Python:Exercises::PHP:exercises:\n"
     ]
    }
   ],
   "source": [
    "import re\n",
    "def replace_text(text):\n",
    "    return text.replace(' ', ':').replace(',',':').replace('.',':')\n",
    "sample_text= 'Python Exercises, PHP exercises.'\n",
    "result= replace_text(sample_text)\n",
    "print(\"Modified Text=\",result)"
   ]
  },
  {
   "cell_type": "markdown",
   "id": "5dce1564",
   "metadata": {},
   "source": [
    "\n",
    "\n"
   ]
  },
  {
   "cell_type": "markdown",
   "id": "3601b639",
   "metadata": {},
   "source": [
    "# # Question 2-  Create a dataframe using the dictionary below and remove everything (commas (,), !, XXXX, ;, etc.) from the columns except words.\n",
    "Dictionary- {'SUMMARY' : ['hello, world!', 'XXXXX test', '123four, five:; six...']}\n",
    "Expected output-\n",
    "0      hello world\n",
    "1             test\n",
    "2    four five six\n"
   ]
  },
  {
   "cell_type": "code",
   "execution_count": 8,
   "id": "ad25c112",
   "metadata": {},
   "outputs": [
    {
     "name": "stdout",
     "output_type": "stream",
     "text": [
      "0   helloworld\n",
      "1         test\n",
      "2  fourfivesix\n"
     ]
    }
   ],
   "source": [
    "import pandas as pd\n",
    "import re\n",
    "\n",
    "\n",
    "data= {\"SUMMARY\": ['hello,world', 'XXXXX test','123four,five:;six...']}\n",
    "df=pd.DataFrame(data)\n",
    "\n",
    "def modified_text(text):\n",
    "    modified_text= re.sub(r'[^\\w\\s]|XXXXX|123','', text)\n",
    "    return modified_text.strip()\n",
    "df['SUMMARY']= df [\"SUMMARY\"].apply(modified_text)\n",
    "print (df.to_string(index=True , header=False))"
   ]
  },
  {
   "cell_type": "code",
   "execution_count": null,
   "id": "300c2c45",
   "metadata": {},
   "outputs": [],
   "source": [
    "\n",
    "\n"
   ]
  },
  {
   "cell_type": "markdown",
   "id": "eab2c1d3",
   "metadata": {},
   "source": [
    "# Question 3- Create a function in python to find all words that are at least 4 characters long in a string. The use of the re.compile() method is mandatory."
   ]
  },
  {
   "cell_type": "code",
   "execution_count": 11,
   "id": "bec40bde",
   "metadata": {},
   "outputs": [
    {
     "name": "stdout",
     "output_type": "stream",
     "text": [
      "['There', 'several', 'ways', 'solve', 'this', 'question', 'here', 'solution']\n"
     ]
    }
   ],
   "source": [
    "import re\n",
    "input_string = \"There are several ways to solve this question ans here is the solution\"\n",
    "\n",
    "def find_4words(input_string):\n",
    "    pattern= re.compile(r'\\b\\w{4,}\\b')\n",
    "    find_4words= pattern.findall(input_string)\n",
    "    return find_4words\n",
    "result = find_4words(input_string)\n",
    "print(result)"
   ]
  },
  {
   "cell_type": "code",
   "execution_count": null,
   "id": "a32ec8d3",
   "metadata": {},
   "outputs": [],
   "source": [
    "\n",
    "\n"
   ]
  },
  {
   "cell_type": "markdown",
   "id": "2e85a46a",
   "metadata": {},
   "source": [
    "# Question 4- Create a function in python to find all three, four, and five character words in a string. The use of the re.compile() method is mandatory."
   ]
  },
  {
   "cell_type": "code",
   "execution_count": 13,
   "id": "4631218a",
   "metadata": {},
   "outputs": [
    {
     "name": "stdout",
     "output_type": "stream",
     "text": [
      "['Here', 'are', 'three', 'four', 'and', 'five', 'words']\n"
     ]
    }
   ],
   "source": [
    "import re\n",
    "input_string = \"Here we are finding three four and five charater words\"\n",
    "\n",
    "def find_words(input_string):\n",
    "    pattern= re.compile(r'\\b\\w{3,5}\\b')\n",
    "    find_words= pattern.findall(input_string)\n",
    "    return find_words\n",
    "output= find_words(input_string)\n",
    "print(output)"
   ]
  },
  {
   "cell_type": "code",
   "execution_count": null,
   "id": "eb583c82",
   "metadata": {},
   "outputs": [],
   "source": [
    "\n",
    "\n"
   ]
  },
  {
   "cell_type": "markdown",
   "id": "51d93c0c",
   "metadata": {},
   "source": [
    "# Question 5- Create a function in Python to remove the parenthesis in a list of strings. The use of the re.compile() method is mandatory.\n",
    "Sample Text: [\"example (.com)\", \"hr@fliprobo (.com)\", \"github (.com)\", \"Hello (Data Science World)\", \"Data (Scientist)\"]\n",
    "\n",
    "Expected Output:\n",
    "example.com\n",
    "hr@fliprobo.com\n",
    "github.com\n",
    "Hello Data Science World\n",
    "Data Scientist\n"
   ]
  },
  {
   "cell_type": "code",
   "execution_count": 45,
   "id": "fee1d5a9",
   "metadata": {},
   "outputs": [
    {
     "name": "stdout",
     "output_type": "stream",
     "text": [
      "example.com\n",
      "hr@fliprobo.com\n",
      "github.com\n",
      "HelloData Science World\n",
      "DataScientist\n"
     ]
    }
   ],
   "source": [
    "import re\n",
    "\n",
    "def remove_parentheses(strings):\n",
    "    pattern = re.compile(r\"\\s*\\(|\\)\\s*\")\n",
    "    modified_strings = []\n",
    "    for string in strings:\n",
    "        modified_string = re.sub(pattern, \"\", string)\n",
    "        modified_strings.append(modified_string)\n",
    "    return modified_strings\n",
    "sample_text = [\"example (.com)\", \"hr@fliprobo (.com)\", \"github (.com)\", \"Hello (Data Science World)\", \"Data (Scientist)\"]\n",
    "result = remove_parentheses(sample_text)\n",
    "\n",
    "for string in result:\n",
    "    print(string)\n"
   ]
  },
  {
   "cell_type": "code",
   "execution_count": 50,
   "id": "d13f35ea",
   "metadata": {},
   "outputs": [
    {
     "name": "stdout",
     "output_type": "stream",
     "text": [
      " following example creates  ArrayList  a capacity   elements. 4 elements   added   ArrayList   ArrayList  trimmed accordingly.\n"
     ]
    }
   ],
   "source": [
    "import re\n",
    "\n",
    "def remove_words(text):\n",
    "    pattern = re.compile(r'\\b\\w{2,4}\\b')\n",
    "    return pattern.sub('', text)\n",
    "\n",
    "# Sample text\n",
    "sample_text = \"The following example creates an ArrayList with a capacity of 50 elements. 4 elements are then added to the ArrayList and the ArrayList is trimmed accordingly.\"\n",
    "\n",
    "# Call the function and print the result\n",
    "output = remove_words(sample_text)\n",
    "print(output)\n",
    "\n",
    "\n"
   ]
  },
  {
   "cell_type": "markdown",
   "id": "13284745",
   "metadata": {},
   "source": [
    "# Question 6: Write a python program to remove the parenthesis area from the text stored in the text file using Regular Expression.\n",
    "Sample Text: [\"example (.com)\", \"hr@fliprobo (.com)\", \"github (.com)\", \"Hello (Data Science World)\", \"Data (Scientist)\"]\n",
    "Expected Output: [\"example\", \"hr@fliprobo\", \"github\", \"Hello\", \"Data\"]\n"
   ]
  },
  {
   "cell_type": "code",
   "execution_count": 7,
   "id": "6fcf3a2b",
   "metadata": {},
   "outputs": [
    {
     "name": "stdout",
     "output_type": "stream",
     "text": [
      "Sample Text: [\"example\", \"hr@fliprobo\", \"github\", \"Hello\", \"Data\"]\n"
     ]
    }
   ],
   "source": [
    "import re\n",
    "Sample_text=[\"example (.com)\", \"hr@fliprobo (.com)\", \"github (.com)\", \"Hello (Data Science World)\", \"Data (Scientist)\"]\n",
    "with open(\"D:\\Filename.txt\", 'r') as file:\n",
    "  text= file.read()\n",
    "modified_text= re.sub(r\"\\s*\\([^)]*\\)\", \"\",text)\n",
    "print (modified_text)\n"
   ]
  },
  {
   "cell_type": "code",
   "execution_count": null,
   "id": "43a1e7b7",
   "metadata": {},
   "outputs": [],
   "source": [
    "\n",
    "\n"
   ]
  },
  {
   "cell_type": "markdown",
   "id": "d22a6efe",
   "metadata": {},
   "source": [
    "# Question 7- Write a regular expression in Python to split a string into uppercase letters.\n",
    "Sample text: “ImportanceOfRegularExpressionsInPython”\n",
    "\n",
    "Expected Output: [‘Importance’, ‘Of’, ‘Regular’, ‘Expression’, ‘In’, ‘Python’]\n"
   ]
  },
  {
   "cell_type": "code",
   "execution_count": 13,
   "id": "7af7216e",
   "metadata": {},
   "outputs": [
    {
     "name": "stdout",
     "output_type": "stream",
     "text": [
      "['Importance', 'Of', 'Regular', 'Expressions', 'In', 'Python']\n"
     ]
    }
   ],
   "source": [
    "import re\n",
    "\n",
    "Sample_text=\"ImportanceOfRegularExpressionsInPython\"\n",
    "pattern=r'(?=[A-Z])'\n",
    "result= re.split(pattern, Sample_text)\n",
    "if result [0]== '':\n",
    "        result= result[1: ]\n",
    "print(result)        \n"
   ]
  },
  {
   "cell_type": "code",
   "execution_count": null,
   "id": "30b32f1a",
   "metadata": {},
   "outputs": [],
   "source": [
    "\n",
    "\n"
   ]
  },
  {
   "cell_type": "markdown",
   "id": "c81ae912",
   "metadata": {},
   "source": [
    "# Question 8- Create a function in python to insert spaces between words starting with numbers.\n",
    "Sample Text: “RegularExpression1IsAn2ImportantTopic3InPython\"\n",
    "\n",
    "Expected Output: RegularExpression 1IsAn 2ImportantTopic 3InPython\n",
    "    "
   ]
  },
  {
   "cell_type": "code",
   "execution_count": 27,
   "id": "e6be9401",
   "metadata": {},
   "outputs": [
    {
     "name": "stdout",
     "output_type": "stream",
     "text": [
      "RegularExpression 1IsAn 2ImportantTopic 3InPython\n"
     ]
    }
   ],
   "source": [
    "import re\n",
    "\n",
    "def insert_spaces(text):\n",
    "    pattern=r'(?<=\\D)(?=\\d)'\n",
    "    modified_text= re.sub(pattern,' ',text)\n",
    "    return modified_text\n",
    "\n",
    "Sample_text=\"RegularExpression1IsAn2ImportantTopic3InPython\"\n",
    "\n",
    "output= insert_spaces(Sample_text)\n",
    "print(output)\n"
   ]
  },
  {
   "cell_type": "code",
   "execution_count": null,
   "id": "b3ea64d4",
   "metadata": {},
   "outputs": [],
   "source": [
    "\n",
    "\n"
   ]
  },
  {
   "cell_type": "markdown",
   "id": "40320cf0",
   "metadata": {},
   "source": [
    "# Question 9- Create a function in python to insert spaces between words starting with capital letters or with numbers.\n",
    "Sample Text: “RegularExpression1IsAn2ImportantTopic3InPython\"\n",
    "\n",
    "Expected Output:  RegularExpression 1 IsAn 2 ImportantTopic 3 InPython\n"
   ]
  },
  {
   "cell_type": "code",
   "execution_count": 31,
   "id": "5b9b35a1",
   "metadata": {},
   "outputs": [
    {
     "name": "stdout",
     "output_type": "stream",
     "text": [
      "Regular Expression 1 Is An 2 Important Topic 3 In Python\n"
     ]
    }
   ],
   "source": [
    "import re\n",
    "def insert_spaces (text):\n",
    "    pattern= r'(?<=\\w)(?=[A-Z0-9])'\n",
    "    \n",
    "    modified_text= re.sub(pattern, ' ' , text)\n",
    "    return modified_text\n",
    "Sample_text= \"RegularExpression1IsAn2ImportantTopic3InPython\"\n",
    "\n",
    "output= insert_spaces(Sample_text)\n",
    "print(output)\n"
   ]
  },
  {
   "cell_type": "code",
   "execution_count": null,
   "id": "f9d0e93c",
   "metadata": {},
   "outputs": [],
   "source": [
    "\n",
    "\n",
    "\n"
   ]
  },
  {
   "cell_type": "markdown",
   "id": "c3d3139e",
   "metadata": {},
   "source": [
    "# Question 10- Use the github link below to read the data and create a dataframe. After creating the dataframe extract the first 6 letters of each country and store in the dataframe under a new column called first_five_letters.\n",
    "Github Link-  https://raw.githubusercontent.com/dsrscientist/DSData/master/happiness_score_dataset.csv\n"
   ]
  },
  {
   "cell_type": "code",
   "execution_count": 35,
   "id": "addeb47c",
   "metadata": {},
   "outputs": [
    {
     "name": "stdout",
     "output_type": "stream",
     "text": [
      "       Country first_five\n",
      "0  Switzerland     Switze\n",
      "1      Iceland     Icelan\n",
      "2      Denmark     Denmar\n",
      "3       Norway     Norway\n",
      "4       Canada     Canada\n"
     ]
    }
   ],
   "source": [
    "import pandas as pd\n",
    "import re\n",
    "\n",
    "url= \"https://raw.githubusercontent.com/dsrscientist/DSData/master/happiness_score_dataset.csv\"\n",
    "df=pd.read_csv(url)\n",
    "\n",
    "def extract_first_five(string):\n",
    "    match= re.match(r'([A-Za-z]{1,6})',string)\n",
    "    \n",
    "    if match:\n",
    "        return match.group(1)\n",
    "    else:\n",
    "        return None\n",
    "    \n",
    "df['first_five']=df['Country'].apply(extract_first_five)\n",
    "\n",
    "print(df[['Country', 'first_five']].head())"
   ]
  },
  {
   "cell_type": "code",
   "execution_count": null,
   "id": "15de9419",
   "metadata": {},
   "outputs": [],
   "source": [
    "\n",
    "\n"
   ]
  },
  {
   "cell_type": "markdown",
   "id": "99a70795",
   "metadata": {},
   "source": [
    "# Question 11- Write a Python program to match a string that contains only upper and lowercase letters, numbers, and underscores."
   ]
  },
  {
   "cell_type": "code",
   "execution_count": 48,
   "id": "43a8a1b6",
   "metadata": {},
   "outputs": [
    {
     "name": "stdout",
     "output_type": "stream",
     "text": [
      "['prOgram5', 'Defined123']\n",
      "Found a match!\n",
      "\n",
      "['Python_', 'Exercise_1']\n",
      "Found a match!\n",
      "\n"
     ]
    }
   ],
   "source": [
    "import re\n",
    "def text_match(text):\n",
    "    pattern= '[a-zA-Z]+[0-9_]+'\n",
    "    x= re.findall(pattern, text)\n",
    "    if x:\n",
    "        print(x)\n",
    "        \n",
    "        return 'Found a match!\\n'\n",
    "    else:\n",
    "        return 'Not matched!'\n",
    "    \n",
    "print(text_match(\"We are just testing the prOgram5 Defined123\"))\n",
    "print(text_match(\"Python_Exercise_1\"))\n",
    "        "
   ]
  },
  {
   "cell_type": "code",
   "execution_count": null,
   "id": "dcde6a22",
   "metadata": {},
   "outputs": [],
   "source": [
    "\n",
    "\n"
   ]
  },
  {
   "cell_type": "markdown",
   "id": "ca155a63",
   "metadata": {},
   "source": [
    "# Question 12- Write a Python program where a string will start with a specific number. "
   ]
  },
  {
   "cell_type": "code",
   "execution_count": 49,
   "id": "3130cc46",
   "metadata": {},
   "outputs": [
    {
     "name": "stdout",
     "output_type": "stream",
     "text": [
      "5-2145:('5-2145', True)\n",
      "6-9632:('6-9632', False)\n"
     ]
    }
   ],
   "source": [
    "import re\n",
    "def match_num(string):\n",
    "    text= re.compile(r\"^5\")\n",
    "    return string, text.match(string) is not None\n",
    "input_s1 = '5-2145'\n",
    "input_s2 = '6-9632'\n",
    "\n",
    "result1 = match_num(input_s1)\n",
    "result2 = match_num(input_s2)\n",
    "\n",
    "print(f\"{input_s1}:{result1}\")\n",
    "print(f\"{input_s2}:{result2}\")\n"
   ]
  },
  {
   "cell_type": "code",
   "execution_count": null,
   "id": "fc0f851d",
   "metadata": {},
   "outputs": [],
   "source": [
    "\n",
    "\n"
   ]
  },
  {
   "cell_type": "markdown",
   "id": "8e5542ae",
   "metadata": {},
   "source": [
    "# Question 13- Write a Python program to remove leading zeros from an IP address"
   ]
  },
  {
   "cell_type": "code",
   "execution_count": 62,
   "id": "8564cdcc",
   "metadata": {},
   "outputs": [
    {
     "name": "stdout",
     "output_type": "stream",
     "text": [
      "IP Address is = 216.8.94.196\n"
     ]
    }
   ],
   "source": [
    "import re\n",
    "ip= \"216.08.094.196\"\n",
    "string= re.sub('\\.0*','.',ip)\n",
    "print (\"IP Address is =\",string)"
   ]
  },
  {
   "cell_type": "code",
   "execution_count": null,
   "id": "0284b67e",
   "metadata": {},
   "outputs": [],
   "source": [
    "\n",
    "\n",
    "\n"
   ]
  },
  {
   "cell_type": "markdown",
   "id": "400615e7",
   "metadata": {},
   "source": [
    "# Question 14- Write a regular expression in python to match a date string in the form of Month name followed by day number and year stored in a text file.\n",
    "Sample text :  ' On August 15th 1947 that India was declared independent from British colonialism, and the reins of control were handed over to the leaders of the Country’.\n",
    "\n",
    "Expected Output- August 15th 1947\n",
    "\n",
    "Note- Store given sample text in the text file and then extract the date string asked format.\n"
   ]
  },
  {
   "cell_type": "code",
   "execution_count": 63,
   "id": "f2131284",
   "metadata": {},
   "outputs": [
    {
     "name": "stdout",
     "output_type": "stream",
     "text": [
      "August 15th 1947\n"
     ]
    }
   ],
   "source": [
    "import re\n",
    "with open ('D:\\Filename1.txt','r') as file:\n",
    "    text= file.read()\n",
    "pattern= r'\\b(?:January|February|March|April|May|June|July|August|September|October|November|December)\\s+\\d{1,2}(?:st|th|rd)?\\s+\\d{4}\\b'\n",
    "matches=re.findall(pattern,text)\n",
    "for match in matches:\n",
    "    print(match)"
   ]
  },
  {
   "cell_type": "code",
   "execution_count": null,
   "id": "7561659c",
   "metadata": {},
   "outputs": [],
   "source": [
    "\n",
    "\n"
   ]
  },
  {
   "cell_type": "markdown",
   "id": "589018e5",
   "metadata": {},
   "source": [
    "# Question 15- Write a Python program to search some literals strings in a string. \n",
    "Sample text : 'The quick brown fox jumps over the lazy dog.'\n",
    "\n",
    "Searched words : 'fox', 'dog', 'horse'\n"
   ]
  },
  {
   "cell_type": "code",
   "execution_count": 70,
   "id": "bab36af3",
   "metadata": {},
   "outputs": [
    {
     "name": "stdout",
     "output_type": "stream",
     "text": [
      "found words: ['fox', 'dog']\n"
     ]
    }
   ],
   "source": [
    "import re\n",
    "def search_literals(text,searched_words):\n",
    "    \n",
    "    found_words  = [word for word in searched_words if re.search (r'\\b'+re.escape(word)+r'\\b',text)]\n",
    "    return found_words\n",
    "text='The quick brown fox jumps over the lazy dog.'\n",
    "searched_words =['fox','dog','horse']\n",
    "\n",
    "found_words = search_literals(text, searched_words)\n",
    "print (\"found words:\",found_words)"
   ]
  },
  {
   "cell_type": "code",
   "execution_count": null,
   "id": "9420351c",
   "metadata": {},
   "outputs": [],
   "source": [
    "\n",
    "\n",
    "\n"
   ]
  },
  {
   "cell_type": "markdown",
   "id": "dcc4202f",
   "metadata": {},
   "source": [
    "# Question 16- Write a Python program to search a literals string in a string and also find the location within the original string where the pattern occurs\n",
    "Sample text : 'The quick brown fox jumps over the lazy dog.'\n",
    "\n",
    "Searched words : 'fox'\n"
   ]
  },
  {
   "cell_type": "code",
   "execution_count": 9,
   "id": "c0dddf2b",
   "metadata": {},
   "outputs": [
    {
     "name": "stdout",
     "output_type": "stream",
     "text": [
      "'fox' found at index 16\n"
     ]
    }
   ],
   "source": [
    "import re\n",
    "text= 'The quick brown fox jumps over the lazy dog.'\n",
    "\n",
    "def search_literal(text,searched_word):\n",
    "    match = re.search(searched_word, text)\n",
    "    if match:\n",
    "        return f\"'{searched_word}' found at index {match.start()}\"\n",
    "    else:\n",
    "            return f\"'{searched_word}' Not found\"\n",
    "searched_word = 'fox'\n",
    "\n",
    "result= search_literal(sample_text, searched_word)\n",
    "\n",
    "print(result)        "
   ]
  },
  {
   "cell_type": "code",
   "execution_count": null,
   "id": "4a501641",
   "metadata": {},
   "outputs": [],
   "source": [
    "\n",
    "\n"
   ]
  },
  {
   "cell_type": "markdown",
   "id": "4a3d0030",
   "metadata": {},
   "source": [
    "# Question 17- Write a Python program to find the substrings within a string.\n",
    "Sample text : 'Python exercises, PHP exercises, C# exercises'\n",
    "\n",
    "Pattern : 'exercises'.\n"
   ]
  },
  {
   "cell_type": "code",
   "execution_count": 10,
   "id": "46dbaa13",
   "metadata": {},
   "outputs": [
    {
     "name": "stdout",
     "output_type": "stream",
     "text": [
      "Found ['exercises', 'exercises', 'exercises']\n"
     ]
    }
   ],
   "source": [
    "import re\n",
    "text= 'Python exercises, PHP exercises, C# exercises'\n",
    "pattern = 'exercises'\n",
    "\n",
    "match= re.findall(pattern, text)\n",
    "print (\"Found\", match)\n"
   ]
  },
  {
   "cell_type": "code",
   "execution_count": null,
   "id": "7d9015af",
   "metadata": {},
   "outputs": [],
   "source": [
    "\n",
    "\n",
    "\n"
   ]
  },
  {
   "cell_type": "markdown",
   "id": "648b96f7",
   "metadata": {},
   "source": [
    "# Question 18- Write a Python program to find the occurrence and position of the substrings within a string."
   ]
  },
  {
   "cell_type": "code",
   "execution_count": 19,
   "id": "83cec6e2",
   "metadata": {},
   "outputs": [
    {
     "name": "stdout",
     "output_type": "stream",
     "text": [
      "found \"exercises\"at starting position 7, ending position 16\n",
      "found \"exercises\"at starting position 22, ending position 31\n",
      "found \"exercises\"at starting position 36, ending position 45\n"
     ]
    }
   ],
   "source": [
    "import re\n",
    "\n",
    "text= 'Python exercises, PHP exercises, C# exercises'\n",
    "pattern= 'exercises'\n",
    "for match in re.finditer(pattern,text):\n",
    "        s= match.start()\n",
    "        e= match.end()\n",
    "        print('found \"%s\"at starting position %d, ending position %d' %(text[s:e], s,e))"
   ]
  },
  {
   "cell_type": "code",
   "execution_count": null,
   "id": "da1fe535",
   "metadata": {},
   "outputs": [],
   "source": [
    "\n",
    "\n",
    "\n"
   ]
  },
  {
   "cell_type": "markdown",
   "id": "d0eb0711",
   "metadata": {},
   "source": [
    "# Question 19- Write a Python program to convert a date of yyyy-mm-dd format to dd-mm-yyyy format."
   ]
  },
  {
   "cell_type": "code",
   "execution_count": 23,
   "id": "8009563b",
   "metadata": {},
   "outputs": [
    {
     "name": "stdout",
     "output_type": "stream",
     "text": [
      "Original date: 2023-05-15\n",
      "Formatted Date: 15-05-2023\n"
     ]
    }
   ],
   "source": [
    "import re\n",
    "def convert_date(date_str):\n",
    "    pattern= r'(\\d{4})-(\\d{2})-(\\d{2})'\n",
    "    \n",
    "    formatted_date= re.sub(pattern, r'\\3-\\2-\\1', date_str)\n",
    "    return formatted_date\n",
    "date_str= \"2023-05-15\"\n",
    "formatted_date = convert_date(date_str)\n",
    "\n",
    "print ('Original date:', date_str)\n",
    "print ('Formatted Date:', formatted_date)"
   ]
  },
  {
   "cell_type": "code",
   "execution_count": null,
   "id": "3f12b8a6",
   "metadata": {},
   "outputs": [],
   "source": [
    "\n",
    "\n",
    "\n"
   ]
  },
  {
   "cell_type": "markdown",
   "id": "ac7c5b0a",
   "metadata": {},
   "source": [
    "# Question 20- Create a function in python to find all decimal numbers with a precision of 1 or 2 in a string. The use of the re.compile() method is mandatory.\n",
    "Sample Text: \"01.12 0132.123 2.31875 145.8 3.01 27.25 0.25\"\n",
    "    \n",
    "Expected Output: ['01.12', '145.8', '3.01', '27.25', '0.25']\n"
   ]
  },
  {
   "cell_type": "code",
   "execution_count": 26,
   "id": "892ecc31",
   "metadata": {},
   "outputs": [
    {
     "name": "stdout",
     "output_type": "stream",
     "text": [
      "['01.12', '145.8', '3.01', '27.25', '0.25']\n"
     ]
    }
   ],
   "source": [
    "import re\n",
    "def find_decimal(text):\n",
    "    pattern= re.compile(r'\\b\\d+\\.\\d{1,2}\\b')\n",
    "    decimal_numbers= pattern.findall(text)\n",
    "    return decimal_numbers\n",
    "Sample_text= \"01.12 0132.123 2.31875 145.8 3.01 27.25 0.25\"\n",
    "result= find_decimal(Sample_text)\n",
    "print(result)"
   ]
  },
  {
   "cell_type": "code",
   "execution_count": null,
   "id": "b789fee6",
   "metadata": {},
   "outputs": [],
   "source": [
    "\n",
    "\n",
    "\n",
    "\n"
   ]
  },
  {
   "cell_type": "markdown",
   "id": "78b41225",
   "metadata": {},
   "source": [
    "# Question 21- Write a Python program to separate and print the numbers and their position of a given string."
   ]
  },
  {
   "cell_type": "code",
   "execution_count": 29,
   "id": "fc30258f",
   "metadata": {},
   "outputs": [
    {
     "name": "stdout",
     "output_type": "stream",
     "text": [
      "Number:1,Position: 6\n",
      "Number:2,Position: 7\n",
      "Number:3,Position: 8\n",
      "Number:4,Position: 16\n",
      "Number:5,Position: 17\n",
      "Number:6,Position: 18\n"
     ]
    }
   ],
   "source": [
    "import re\n",
    "def separate_no(text):\n",
    "    numbers= re.findall(r'\\d',text)\n",
    "    positions = [m.start()  for m in re.finditer (r'\\d', text)]\n",
    "    return numbers, positions\n",
    "Sample_text = \"Hello 123 World 456\"\n",
    "numbers, positions = separate_no(Sample_text)\n",
    "\n",
    "for num, pos in zip (numbers, positions):\n",
    "    print (f\"Number:{num},Position: {pos}\")"
   ]
  },
  {
   "cell_type": "code",
   "execution_count": null,
   "id": "360b61d9",
   "metadata": {},
   "outputs": [],
   "source": [
    "\n",
    "\n",
    "\n"
   ]
  },
  {
   "cell_type": "markdown",
   "id": "73cca0dc",
   "metadata": {},
   "source": [
    "# Question 22- Write a regular expression in python program to extract maximum/largest numeric value from a string.\n",
    "Sample Text:  'My marks in each semester are: 947, 896, 926, 524, 734, 950, 642'\n",
    "\n",
    "Expected Output: 950\n"
   ]
  },
  {
   "cell_type": "code",
   "execution_count": 30,
   "id": "76579b9c",
   "metadata": {},
   "outputs": [
    {
     "name": "stdout",
     "output_type": "stream",
     "text": [
      "Max Value: 950\n"
     ]
    }
   ],
   "source": [
    "import re\n",
    "Sample_text= 'My marks in each semester are: 947, 896, 926, 524, 734, 950, 642'\n",
    "\n",
    "def extract_max(Sample_text):\n",
    "    numeric_values= re.findall(r'\\b\\d+\\d',Sample_text)\n",
    "    numeric_values = [int(num) for num in numeric_values]\n",
    "    return max(numeric_values)\n",
    "print(\"Max Value:\", extract_max(Sample_text))\n",
    "    "
   ]
  },
  {
   "cell_type": "code",
   "execution_count": null,
   "id": "6f9855c4",
   "metadata": {},
   "outputs": [],
   "source": [
    "\n",
    "\n",
    "\n"
   ]
  },
  {
   "cell_type": "markdown",
   "id": "b165817a",
   "metadata": {},
   "source": [
    "# Question 23- Create a function in python to insert spaces between words starting with capital letters.\n",
    "Sample Text: “RegularExpressionIsAnImportantTopicInPython\"\n",
    "    \n",
    "Expected Output: Regular Expression Is An Important Topic In Python\n"
   ]
  },
  {
   "cell_type": "code",
   "execution_count": 51,
   "id": "7bcd482a",
   "metadata": {},
   "outputs": [
    {
     "name": "stdout",
     "output_type": "stream",
     "text": [
      "Regular Expression Is An Important Topic In Python\n"
     ]
    }
   ],
   "source": [
    "import re\n",
    "\n",
    "def insert_spaces(Sample_text):\n",
    "    \n",
    "    modified_text = re.sub(r'(?<=\\w)([A-Z])',r' \\1', Sample_text)\n",
    "    \n",
    "    return modified_text\n",
    "Sample_text=\"RegularExpressionIsAnImportantTopicInPython\"\n",
    "print (insert_spaces(Sample_text))"
   ]
  },
  {
   "cell_type": "code",
   "execution_count": null,
   "id": "4d115091",
   "metadata": {},
   "outputs": [],
   "source": [
    "\n",
    "\n",
    "\n"
   ]
  },
  {
   "cell_type": "markdown",
   "id": "144d26d8",
   "metadata": {},
   "source": [
    "# Question 24- Python regex to find sequences of one upper case letter followed by lower case letters"
   ]
  },
  {
   "cell_type": "code",
   "execution_count": 52,
   "id": "b5613ef1",
   "metadata": {},
   "outputs": [
    {
     "name": "stdout",
     "output_type": "stream",
     "text": [
      "['This', 'Is', 'Sample', 'Text', 'With', 'Sequences', 'Of', 'One', 'Upper', 'Case', 'Letters']\n"
     ]
    }
   ],
   "source": [
    "import re\n",
    "\n",
    "text = \"This Is A Sample Text With Sequences Of One Upper Case Letters\"\n",
    "\n",
    "pattern = r'[A-Z][a-z]+'\n",
    "matches = re.findall(pattern, text)\n",
    "print(matches)\n"
   ]
  },
  {
   "cell_type": "code",
   "execution_count": null,
   "id": "9fb930b1",
   "metadata": {},
   "outputs": [],
   "source": [
    "\n",
    "\n",
    "\n"
   ]
  },
  {
   "cell_type": "markdown",
   "id": "97fa4311",
   "metadata": {},
   "source": [
    "# Question 25- Write a Python program to remove continuous duplicate words from Sentence using Regular Expression.\n",
    "Sample Text: \"Hello hello world world\"\n",
    "\n",
    "Expected Output: Hello hello world\n"
   ]
  },
  {
   "cell_type": "code",
   "execution_count": 53,
   "id": "3cc260b9",
   "metadata": {},
   "outputs": [
    {
     "name": "stdout",
     "output_type": "stream",
     "text": [
      "Hello hello world\n"
     ]
    }
   ],
   "source": [
    "def removeDuplicateWords(input):   \n",
    "    regex = r'\\b(\\w+)(?:\\W+\\1\\b)+' \n",
    "    return re.sub(regex, r'\\1',text)\n",
    "text= \"Hello hello world world\"\n",
    "print(removeDuplicateWords(text))"
   ]
  },
  {
   "cell_type": "code",
   "execution_count": null,
   "id": "e5eb3214",
   "metadata": {},
   "outputs": [],
   "source": [
    "\n",
    "\n",
    "\n"
   ]
  },
  {
   "cell_type": "markdown",
   "id": "3f6ae704",
   "metadata": {},
   "source": [
    "# Question 26-  Write a python program using RegEx to accept string ending with alphanumeric character."
   ]
  },
  {
   "cell_type": "code",
   "execution_count": 58,
   "id": "d732bca4",
   "metadata": {},
   "outputs": [
    {
     "name": "stdout",
     "output_type": "stream",
     "text": [
      "'hello123' ends with an alphanumeric character.\n",
      "'world456' ends with an alphanumeric character.\n",
      "'example!' does not end with an alphanumeric character.\n",
      "'python@123' ends with an alphanumeric character.\n",
      "'regex5678' ends with an alphanumeric character.\n"
     ]
    }
   ],
   "source": [
    "import re\n",
    "\n",
    "def accept_ending_alphanumeric(string):\n",
    "    pattern = r'\\w$' \n",
    "    \n",
    "    return bool(re.search(pattern, string))\n",
    "\n",
    "test_strings = [\"hello123\", \"world456\", \"example!\", \"python@123\", \"regex5678\"]\n",
    "for string in test_strings:\n",
    "    if accept_ending_alphanumeric(string):\n",
    "        print(f\"'{string}' ends with an alphanumeric character.\")\n",
    "    else:\n",
    "        print(f\"'{string}' does not end with an alphanumeric character.\")\n"
   ]
  },
  {
   "cell_type": "code",
   "execution_count": null,
   "id": "dbe7ee75",
   "metadata": {},
   "outputs": [],
   "source": [
    "\n",
    "\n",
    "\n"
   ]
  },
  {
   "cell_type": "markdown",
   "id": "2c5a9d2b",
   "metadata": {},
   "source": [
    "# Question 27-Write a python program using RegEx to extract the hashtags.\n",
    "Sample Text:  \"\"\"RT @kapil_kausik: #Doltiwal I mean #xyzabc is \"hurt\" by #Demonetization as the same has rendered USELESS <ed><U+00A0><U+00BD><ed><U+00B1><U+0089> \"acquired funds\" No wo\"\"\"\n",
    "\n",
    "Expected Output: ['#Doltiwal', '#xyzabc', '#Demonetization']\n"
   ]
  },
  {
   "cell_type": "code",
   "execution_count": 62,
   "id": "8f39edef",
   "metadata": {
    "scrolled": true
   },
   "outputs": [
    {
     "name": "stdout",
     "output_type": "stream",
     "text": [
      "Extracted Hashtags: ['#Doltiwal', '#xyzabc', '#Demonetization']\n"
     ]
    }
   ],
   "source": [
    "import re\n",
    "\n",
    "def extract_hashtags(text):\n",
    "    \n",
    "    pattern = r'#\\w+'\n",
    "    \n",
    "    hashtags = re.findall(pattern, text)\n",
    "    \n",
    "    return hashtags\n",
    "\n",
    "sample_text = \"\"\"RT @kapil_kausik: #Doltiwal I mean #xyzabc is \"hurt\" by #Demonetization as the same has rendered USELESS <ed><U+00A0><U+00BD><ed><U+00B1><U+0089> \"acquired funds\" No wo\"\"\"\n",
    "\n",
    "hashtags = extract_hashtags(sample_text)\n",
    "\n",
    "print(\"Extracted Hashtags:\", hashtags)\n"
   ]
  },
  {
   "cell_type": "code",
   "execution_count": null,
   "id": "f4a4847c",
   "metadata": {},
   "outputs": [],
   "source": [
    "\n",
    "\n",
    "\n"
   ]
  },
  {
   "cell_type": "markdown",
   "id": "bae82794",
   "metadata": {},
   "source": [
    "# Question 28- Write a python program using RegEx to remove <U+..> like symbols\n",
    "Check the below sample text, there are strange symbols something of the sort <U+..> all over the place. You need to come up with a general Regex expression that will cover all such symbols.\n",
    "\n",
    "Sample Text: \"@Jags123456 Bharat band on 28??<ed><U+00A0><U+00BD><ed><U+00B8><U+0082>Those who  are protesting #demonetization  are all different party leaders\"\n",
    "\n",
    "Expected Output: @Jags123456 Bharat band on 28??<ed><ed>Those who  are protesting #demonetization  are all different party leaders\n"
   ]
  },
  {
   "cell_type": "code",
   "execution_count": 63,
   "id": "2907b510",
   "metadata": {},
   "outputs": [
    {
     "name": "stdout",
     "output_type": "stream",
     "text": [
      "Cleaned Text: @Jags123456 Bharat band on 28??<ed><ed>Those who  are protesting #demonetization  are all different party leaders\n"
     ]
    }
   ],
   "source": [
    "import re\n",
    "\n",
    "def remove_strange_symbols(text):\n",
    "    pattern = r'<U\\+[A-F0-9]{2,4}>'\n",
    "    cleaned_text = re.sub(pattern, '', text)\n",
    "    \n",
    "    return cleaned_text\n",
    "\n",
    "sample_text = \"@Jags123456 Bharat band on 28??<ed><U+00A0><U+00BD><ed><U+00B8><U+0082>Those who  are protesting #demonetization  are all different party leaders\"\n",
    "\n",
    "cleaned_text = remove_strange_symbols(sample_text)\n",
    "\n",
    "print(\"Cleaned Text:\", cleaned_text)\n"
   ]
  },
  {
   "cell_type": "code",
   "execution_count": null,
   "id": "23b5a9b7",
   "metadata": {},
   "outputs": [],
   "source": [
    "\n",
    "\n",
    "\n"
   ]
  },
  {
   "cell_type": "markdown",
   "id": "0ae39c19",
   "metadata": {},
   "source": [
    "# Question 29- Write a python program to extract dates from the text stored in the text file.\n",
    "\n",
    "Sample Text: Ron was born on 12-09-1992 and he was admitted to school 15-12-1999.\n",
    "\n",
    "Note- Store this sample text in the file and then extract dates.\n"
   ]
  },
  {
   "cell_type": "code",
   "execution_count": 64,
   "id": "b52950d5",
   "metadata": {},
   "outputs": [
    {
     "name": "stdout",
     "output_type": "stream",
     "text": [
      "Extracted Dates: ['12-09-1992', '15-12-1999']\n"
     ]
    }
   ],
   "source": [
    "\"D:\\Filename2.txt\"\n",
    "\n",
    "\n",
    "import re\n",
    "\n",
    "def extract_dates_from_file(file_path):\n",
    "    \n",
    "    with open(\"D:\\Filename2.txt\", 'r') as file:\n",
    "        text = file.read()\n",
    "\n",
    "    pattern = r'\\b\\d{2}-\\d{2}-\\d{4}\\b'\n",
    "\n",
    "    dates = re.findall(pattern, text)\n",
    "\n",
    "    return dates\n",
    "\n",
    "file_path = \"sample_text.txt\"  \n",
    "extracted_dates = extract_dates_from_file(file_path)\n",
    "\n",
    "print(\"Extracted Dates:\", extracted_dates)\n"
   ]
  },
  {
   "cell_type": "code",
   "execution_count": null,
   "id": "ea2b8c92",
   "metadata": {},
   "outputs": [],
   "source": [
    "\n",
    "\n",
    "\n"
   ]
  },
  {
   "cell_type": "markdown",
   "id": "cd654a09",
   "metadata": {},
   "source": [
    "# Question 30- Create a function in python to remove all words from a string of length between 2 and 4.\n",
    "The use of the re.compile() method is mandatory.\n",
    "\n",
    "Sample Text: \"The following example creates an ArrayList with a capacity of 50 elements. 4 elements are then added to the ArrayList and the ArrayList is trimmed accordingly.\"\n",
    "\n",
    "Expected Output:  following example creates ArrayList a capacity elements. 4 elements added ArrayList ArrayList trimmed accordingly.\n",
    "\n"
   ]
  },
  {
   "cell_type": "code",
   "execution_count": 66,
   "id": "86febb3c",
   "metadata": {},
   "outputs": [
    {
     "name": "stdout",
     "output_type": "stream",
     "text": [
      "Modified Text:  following example creates  ArrayList  a capacity   elements. 4 elements   added   ArrayList   ArrayList  trimmed accordingly.\n"
     ]
    }
   ],
   "source": [
    "import re\n",
    "def remove_words_of_length_2_to_4(sample_text):   \n",
    "    pattern = re.compile(r'\\b\\w{2,4}\\b')\n",
    "    modified_text = pattern.sub('', sample_text)\n",
    "    return modified_text\n",
    "sample_text = \"The following example creates an ArrayList with a capacity of 50 elements. 4 elements are then added to the ArrayList and the ArrayList is trimmed accordingly.\"\n",
    "modified_text = remove_words_of_length_2_to_4(sample_text)\n",
    "print(\"Modified Text:\", modified_text)\n"
   ]
  },
  {
   "cell_type": "code",
   "execution_count": null,
   "id": "69ee5cbe",
   "metadata": {},
   "outputs": [],
   "source": []
  }
 ],
 "metadata": {
  "kernelspec": {
   "display_name": "Python 3 (ipykernel)",
   "language": "python",
   "name": "python3"
  },
  "language_info": {
   "codemirror_mode": {
    "name": "ipython",
    "version": 3
   },
   "file_extension": ".py",
   "mimetype": "text/x-python",
   "name": "python",
   "nbconvert_exporter": "python",
   "pygments_lexer": "ipython3",
   "version": "3.11.4"
  }
 },
 "nbformat": 4,
 "nbformat_minor": 5
}
