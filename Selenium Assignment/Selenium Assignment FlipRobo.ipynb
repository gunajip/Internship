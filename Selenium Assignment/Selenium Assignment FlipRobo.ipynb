{
 "cells": [
  {
   "cell_type": "markdown",
   "id": "f8e1fbc5",
   "metadata": {},
   "source": [
    "# Q.1 Naurki.com Selenium"
   ]
  },
  {
   "cell_type": "code",
   "execution_count": 12,
   "id": "ebd49803",
   "metadata": {},
   "outputs": [],
   "source": [
    "#importing all required liabraries \n",
    "\n",
    "import selenium \n",
    "import pandas as pd\n",
    "from selenium import webdriver\n",
    "import warnings\n",
    "warnings.filterwarnings('ignore')\n",
    "from selenium.webdriver.common.by import By\n",
    "import time"
   ]
  },
  {
   "cell_type": "code",
   "execution_count": null,
   "id": "56f73eb4",
   "metadata": {},
   "outputs": [],
   "source": [
    "\n"
   ]
  },
  {
   "cell_type": "code",
   "execution_count": 13,
   "id": "964a2822",
   "metadata": {},
   "outputs": [],
   "source": [
    "#opening chrome web-browser\n",
    "\n",
    "driver= webdriver.Chrome()"
   ]
  },
  {
   "cell_type": "code",
   "execution_count": 14,
   "id": "5b3aadac",
   "metadata": {},
   "outputs": [],
   "source": [
    "#Opening the website to scrape data\n",
    "\n",
    "driver.get(\"https://www.naukri.com/\")"
   ]
  },
  {
   "cell_type": "code",
   "execution_count": 15,
   "id": "963f44e0",
   "metadata": {},
   "outputs": [],
   "source": [
    "# Sending our input to the website\n",
    "\n",
    "designation = driver.find_element(By.CLASS_NAME,\"suggestor-input \")\n",
    "designation.send_keys('Data Scientist')"
   ]
  },
  {
   "cell_type": "code",
   "execution_count": 16,
   "id": "62375754",
   "metadata": {},
   "outputs": [],
   "source": [
    "# Sending location input to website\n",
    "\n",
    "location = driver.find_element(By.XPATH,\"/html/body/div[1]/div[7]/div/div/div[5]/div/div/div/div[1]/div/input\")\n",
    "location.send_keys('Delhi/ NCR')"
   ]
  },
  {
   "cell_type": "code",
   "execution_count": 17,
   "id": "a7693151",
   "metadata": {},
   "outputs": [],
   "source": [
    "# Clicking on the search button\n",
    "\n",
    "search = driver.find_element(By.CLASS_NAME,\"qsbSubmit\")\n",
    "search.click()\n"
   ]
  },
  {
   "cell_type": "code",
   "execution_count": 18,
   "id": "ffe9058e",
   "metadata": {},
   "outputs": [],
   "source": [
    "# Clicking on the salary filter\n",
    "\n",
    "salary_filter = driver.find_element(By.XPATH, \"/html/body/div/div/main/div[1]/div[1]/div/div/div[2]/div[3]/div[2]/div[2]/label/i\")\n",
    "salary_filter.click()\n"
   ]
  },
  {
   "cell_type": "code",
   "execution_count": 37,
   "id": "d59a722f",
   "metadata": {},
   "outputs": [
    {
     "data": {
      "text/plain": [
       "['Data Scientist HTHD',\n",
       " 'Data Scientist',\n",
       " 'Global GI Data Scientist',\n",
       " 'Global GI Data Scientist',\n",
       " 'Data Scientist',\n",
       " 'Python Data Scientist',\n",
       " 'Data Scientist',\n",
       " 'Data Scientist',\n",
       " 'Data Scientist',\n",
       " 'Lead Data Scientist']"
      ]
     },
     "execution_count": 37,
     "metadata": {},
     "output_type": "execute_result"
    }
   ],
   "source": [
    "#Extracting Job titles from the website\n",
    "\n",
    "job_titles = driver.find_elements(By.XPATH,'//div[@class=\"cust-job-tuple layout-wrapper lay-2 sjw__tuple \"]/div/a')\n",
    "job_titles1 =[]\n",
    "\n",
    "for i in job_titles[:10]:\n",
    "    titles= i.text\n",
    "    job_titles1.append(titles)\n",
    "    \n",
    "job_titles1"
   ]
  },
  {
   "cell_type": "code",
   "execution_count": 43,
   "id": "2c763773",
   "metadata": {},
   "outputs": [
    {
     "data": {
      "text/plain": [
       "['Kolkata, Mumbai, New Delhi, Hyderabad, Pune, Chennai, Bengaluru',\n",
       " 'Gurugram, Bengaluru',\n",
       " 'Faridabad',\n",
       " 'Faridabad',\n",
       " 'Kolkata, Mumbai, New Delhi, Hyderabad, Pune, Chennai, Bengaluru',\n",
       " 'Kolkata, Mumbai, New Delhi, Hyderabad, Pune, Chennai, Bengaluru',\n",
       " 'Kolkata, Mumbai, New Delhi, Hyderabad, Pune, Chennai, Bengaluru',\n",
       " 'Kolkata, Mumbai, New Delhi, Hyderabad, Pune, Chennai, Bengaluru',\n",
       " 'Kolkata, Mumbai, New Delhi, Hyderabad, Pune, Chennai, Bengaluru',\n",
       " 'Kolkata, Mumbai, New Delhi, Hyderabad, Pune, Chennai, Bengaluru']"
      ]
     },
     "execution_count": 43,
     "metadata": {},
     "output_type": "execute_result"
    }
   ],
   "source": [
    "# Extracting Job Location \n",
    "\n",
    "job_location = driver.find_elements(By.XPATH, '//span[@class=\"locWdth\"]')\n",
    "job_locations=[]\n",
    "\n",
    "for i in job_location [:10]:\n",
    "    locations = i.text\n",
    "    job_locations.append(locations)\n",
    "    \n",
    "job_locations\n"
   ]
  },
  {
   "cell_type": "code",
   "execution_count": 50,
   "id": "93b7d867",
   "metadata": {},
   "outputs": [
    {
     "data": {
      "text/plain": [
       "['Ford',\n",
       " 'Blackbuck',\n",
       " 'Hitachi Ltd.',\n",
       " 'Hitachi Energy',\n",
       " 'Digital Glyde',\n",
       " 'Wizaltia Hr Solutions',\n",
       " 'Kmart',\n",
       " 'KAS Services',\n",
       " 'Scienaptic Systems',\n",
       " 'Elitefit.ai']"
      ]
     },
     "execution_count": 50,
     "metadata": {},
     "output_type": "execute_result"
    }
   ],
   "source": [
    "#Extracting company Names\n",
    "\n",
    "company_name= driver.find_elements(By.XPATH, '//div[@class=\" row2\"]/span/a[1]')\n",
    "company_names=[]\n",
    "\n",
    "for i in company_name [:10]:\n",
    "    names = i.text\n",
    "    company_names.append(names)\n",
    "    \n",
    "company_names"
   ]
  },
  {
   "cell_type": "code",
   "execution_count": 52,
   "id": "3094236d",
   "metadata": {},
   "outputs": [
    {
     "data": {
      "text/plain": [
       "['1-4 Yrs',\n",
       " '3-7 Yrs',\n",
       " '3-5 Yrs',\n",
       " '3-5 Yrs',\n",
       " '3-7 Yrs',\n",
       " '2-7 Yrs',\n",
       " '3-5 Yrs',\n",
       " '3-5 Yrs',\n",
       " '2-7 Yrs',\n",
       " '3-7 Yrs']"
      ]
     },
     "execution_count": 52,
     "metadata": {},
     "output_type": "execute_result"
    }
   ],
   "source": [
    "# Extracting experience tags\n",
    "\n",
    "experience_tags = driver.find_elements(By.XPATH, '//span[@class=\"ni-job-tuple-icon ni-job-tuple-icon-srp-experience exp\"]/span')\n",
    "experience_tag = []\n",
    "\n",
    "for i in experience_tags [:10]:\n",
    "    tag = i.text\n",
    "    experience_tag.append(tag)\n",
    "    \n",
    "experience_tag"
   ]
  },
  {
   "cell_type": "code",
   "execution_count": 46,
   "id": "1e43e5b6",
   "metadata": {},
   "outputs": [
    {
     "data": {
      "text/plain": [
       "'https://www.shine.com/jobs/data-analyst-senior-data-analyst-data-analyst-tech-lead-permanent/appsoft-solutions/11720912/'"
      ]
     },
     "execution_count": 46,
     "metadata": {},
     "output_type": "execute_result"
    }
   ],
   "source": [
    "# Getting apply link using get attribute href\n",
    "\n",
    "job_link = driver.find_elements(By.XPATH,'//div[@class=\"cust-job-tuple layout-wrapper lay-2 sjw__tuple \"]/div/a')\n",
    "job_links =[]\n",
    "\n",
    "for i in job_link [:10]:\n",
    "    link = i.get_attribute('href')\n",
    "    job_links.append(link)\n",
    "\n",
    "link"
   ]
  },
  {
   "cell_type": "code",
   "execution_count": 77,
   "id": "a64de781",
   "metadata": {},
   "outputs": [
    {
     "data": {
      "text/html": [
       "<div>\n",
       "<style scoped>\n",
       "    .dataframe tbody tr th:only-of-type {\n",
       "        vertical-align: middle;\n",
       "    }\n",
       "\n",
       "    .dataframe tbody tr th {\n",
       "        vertical-align: top;\n",
       "    }\n",
       "\n",
       "    .dataframe thead th {\n",
       "        text-align: right;\n",
       "    }\n",
       "</style>\n",
       "<table border=\"1\" class=\"dataframe\">\n",
       "  <thead>\n",
       "    <tr style=\"text-align: right;\">\n",
       "      <th></th>\n",
       "      <th>Title</th>\n",
       "      <th>Location</th>\n",
       "      <th>Company Name</th>\n",
       "      <th>Experience</th>\n",
       "      <th>Apply Link</th>\n",
       "    </tr>\n",
       "  </thead>\n",
       "  <tbody>\n",
       "    <tr>\n",
       "      <th>1</th>\n",
       "      <td>Data Scientist HTHD</td>\n",
       "      <td>Kolkata, Mumbai, New Delhi, Hyderabad, Pune, C...</td>\n",
       "      <td>Ford</td>\n",
       "      <td>1-4 Yrs</td>\n",
       "      <td>https://www.naukri.com/job-listings-lead-data-...</td>\n",
       "    </tr>\n",
       "    <tr>\n",
       "      <th>2</th>\n",
       "      <td>Data Scientist</td>\n",
       "      <td>Gurugram, Bengaluru</td>\n",
       "      <td>Blackbuck</td>\n",
       "      <td>3-7 Yrs</td>\n",
       "      <td>https://www.naukri.com/job-listings-lead-data-...</td>\n",
       "    </tr>\n",
       "    <tr>\n",
       "      <th>3</th>\n",
       "      <td>Global GI Data Scientist</td>\n",
       "      <td>Faridabad</td>\n",
       "      <td>Hitachi Ltd.</td>\n",
       "      <td>3-5 Yrs</td>\n",
       "      <td>https://www.naukri.com/job-listings-lead-data-...</td>\n",
       "    </tr>\n",
       "    <tr>\n",
       "      <th>4</th>\n",
       "      <td>Global GI Data Scientist</td>\n",
       "      <td>Faridabad</td>\n",
       "      <td>Hitachi Energy</td>\n",
       "      <td>3-5 Yrs</td>\n",
       "      <td>https://www.naukri.com/job-listings-lead-data-...</td>\n",
       "    </tr>\n",
       "    <tr>\n",
       "      <th>5</th>\n",
       "      <td>Data Scientist</td>\n",
       "      <td>Kolkata, Mumbai, New Delhi, Hyderabad, Pune, C...</td>\n",
       "      <td>Digital Glyde</td>\n",
       "      <td>3-7 Yrs</td>\n",
       "      <td>https://www.naukri.com/job-listings-lead-data-...</td>\n",
       "    </tr>\n",
       "    <tr>\n",
       "      <th>6</th>\n",
       "      <td>Python Data Scientist</td>\n",
       "      <td>Kolkata, Mumbai, New Delhi, Hyderabad, Pune, C...</td>\n",
       "      <td>Wizaltia Hr Solutions</td>\n",
       "      <td>2-7 Yrs</td>\n",
       "      <td>https://www.naukri.com/job-listings-lead-data-...</td>\n",
       "    </tr>\n",
       "    <tr>\n",
       "      <th>7</th>\n",
       "      <td>Data Scientist</td>\n",
       "      <td>Kolkata, Mumbai, New Delhi, Hyderabad, Pune, C...</td>\n",
       "      <td>Kmart</td>\n",
       "      <td>3-5 Yrs</td>\n",
       "      <td>https://www.naukri.com/job-listings-lead-data-...</td>\n",
       "    </tr>\n",
       "    <tr>\n",
       "      <th>8</th>\n",
       "      <td>Data Scientist</td>\n",
       "      <td>Kolkata, Mumbai, New Delhi, Hyderabad, Pune, C...</td>\n",
       "      <td>KAS Services</td>\n",
       "      <td>3-5 Yrs</td>\n",
       "      <td>https://www.naukri.com/job-listings-lead-data-...</td>\n",
       "    </tr>\n",
       "    <tr>\n",
       "      <th>9</th>\n",
       "      <td>Data Scientist</td>\n",
       "      <td>Kolkata, Mumbai, New Delhi, Hyderabad, Pune, C...</td>\n",
       "      <td>Scienaptic Systems</td>\n",
       "      <td>2-7 Yrs</td>\n",
       "      <td>https://www.naukri.com/job-listings-lead-data-...</td>\n",
       "    </tr>\n",
       "    <tr>\n",
       "      <th>10</th>\n",
       "      <td>Lead Data Scientist</td>\n",
       "      <td>Kolkata, Mumbai, New Delhi, Hyderabad, Pune, C...</td>\n",
       "      <td>Elitefit.ai</td>\n",
       "      <td>3-7 Yrs</td>\n",
       "      <td>https://www.naukri.com/job-listings-lead-data-...</td>\n",
       "    </tr>\n",
       "  </tbody>\n",
       "</table>\n",
       "</div>"
      ],
      "text/plain": [
       "                       Title  \\\n",
       "1        Data Scientist HTHD   \n",
       "2             Data Scientist   \n",
       "3   Global GI Data Scientist   \n",
       "4   Global GI Data Scientist   \n",
       "5             Data Scientist   \n",
       "6      Python Data Scientist   \n",
       "7             Data Scientist   \n",
       "8             Data Scientist   \n",
       "9             Data Scientist   \n",
       "10       Lead Data Scientist   \n",
       "\n",
       "                                             Location           Company Name  \\\n",
       "1   Kolkata, Mumbai, New Delhi, Hyderabad, Pune, C...                   Ford   \n",
       "2                                 Gurugram, Bengaluru              Blackbuck   \n",
       "3                                           Faridabad           Hitachi Ltd.   \n",
       "4                                           Faridabad         Hitachi Energy   \n",
       "5   Kolkata, Mumbai, New Delhi, Hyderabad, Pune, C...          Digital Glyde   \n",
       "6   Kolkata, Mumbai, New Delhi, Hyderabad, Pune, C...  Wizaltia Hr Solutions   \n",
       "7   Kolkata, Mumbai, New Delhi, Hyderabad, Pune, C...                  Kmart   \n",
       "8   Kolkata, Mumbai, New Delhi, Hyderabad, Pune, C...           KAS Services   \n",
       "9   Kolkata, Mumbai, New Delhi, Hyderabad, Pune, C...     Scienaptic Systems   \n",
       "10  Kolkata, Mumbai, New Delhi, Hyderabad, Pune, C...            Elitefit.ai   \n",
       "\n",
       "   Experience                                         Apply Link  \n",
       "1     1-4 Yrs  https://www.naukri.com/job-listings-lead-data-...  \n",
       "2     3-7 Yrs  https://www.naukri.com/job-listings-lead-data-...  \n",
       "3     3-5 Yrs  https://www.naukri.com/job-listings-lead-data-...  \n",
       "4     3-5 Yrs  https://www.naukri.com/job-listings-lead-data-...  \n",
       "5     3-7 Yrs  https://www.naukri.com/job-listings-lead-data-...  \n",
       "6     2-7 Yrs  https://www.naukri.com/job-listings-lead-data-...  \n",
       "7     3-5 Yrs  https://www.naukri.com/job-listings-lead-data-...  \n",
       "8     3-5 Yrs  https://www.naukri.com/job-listings-lead-data-...  \n",
       "9     2-7 Yrs  https://www.naukri.com/job-listings-lead-data-...  \n",
       "10    3-7 Yrs  https://www.naukri.com/job-listings-lead-data-...  "
      ]
     },
     "execution_count": 77,
     "metadata": {},
     "output_type": "execute_result"
    }
   ],
   "source": [
    "#Creating the dataframe using pandas\n",
    "\n",
    "df = pd.DataFrame ({'Title':job_titles1, 'Location':job_locations, 'Company Name':company_names,'Experience':experience_tag , 'Apply Link': link}) \n",
    "df.index+=1\n",
    "df"
   ]
  },
  {
   "cell_type": "code",
   "execution_count": null,
   "id": "8eddac83",
   "metadata": {},
   "outputs": [],
   "source": []
  },
  {
   "cell_type": "markdown",
   "id": "59e735b4",
   "metadata": {},
   "source": [
    "# Q.2 Shine.com Selenium"
   ]
  },
  {
   "cell_type": "code",
   "execution_count": 1,
   "id": "827e4d0d",
   "metadata": {},
   "outputs": [],
   "source": [
    "#importing all required liabraries \n",
    "\n",
    "import selenium \n",
    "import pandas as pd\n",
    "from selenium import webdriver\n",
    "import warnings\n",
    "warnings.filterwarnings('ignore')\n",
    "from selenium.webdriver.common.by import By\n",
    "import time"
   ]
  },
  {
   "cell_type": "code",
   "execution_count": 2,
   "id": "6aff9184",
   "metadata": {},
   "outputs": [],
   "source": [
    "#opening Chrome browser and Website\n",
    "\n",
    "driver= webdriver.Chrome()\n",
    "driver.get(\"https://www.shine.com/\")"
   ]
  },
  {
   "cell_type": "code",
   "execution_count": 4,
   "id": "8c789cc4",
   "metadata": {},
   "outputs": [],
   "source": [
    "#Sending input to website\n",
    "\n",
    "designation = driver.find_element(By.XPATH, \"/html/body/div/div[4]/div/div[2]/div[2]/div/form/div/div[1]/ul/li[1]/div/input\")\n",
    "designation.send_keys('Data Analyst')"
   ]
  },
  {
   "cell_type": "code",
   "execution_count": 5,
   "id": "80629a90",
   "metadata": {},
   "outputs": [],
   "source": [
    "#Sending the location input\n",
    "\n",
    "location_box = driver.find_element(By.XPATH,\"/html/body/div/div[4]/div/div[2]/div[2]/div/form/div/div[1]/ul/li[2]/div/input\")\n",
    "location_box.send_keys('Bangalore')\n"
   ]
  },
  {
   "cell_type": "code",
   "execution_count": 7,
   "id": "f0d2e6a9",
   "metadata": {},
   "outputs": [],
   "source": [
    "#clicking on the location box\n",
    "\n",
    "experience = driver.find_element(By.XPATH,'/html/body/div/div[4]/div/div[2]/div[2]/div/form/div/div[1]/ul/li[3]/div/ul/li[1]')\n",
    "experience.click()"
   ]
  },
  {
   "cell_type": "code",
   "execution_count": 8,
   "id": "f8fcb650",
   "metadata": {},
   "outputs": [],
   "source": [
    "#Cliking on the search button\n",
    "\n",
    "search = driver.find_element(By.XPATH,\"/html/body/div/div[4]/div/div[2]/div[2]/div/form/div/div[2]/div/button\")\n",
    "search.click()\n"
   ]
  },
  {
   "cell_type": "code",
   "execution_count": 9,
   "id": "7df84f27",
   "metadata": {},
   "outputs": [
    {
     "data": {
      "text/plain": [
       "['Data Analyst , Senior Data Analyst , Data Analyst - Tec ...',\n",
       " 'Clinical Data Analyst',\n",
       " 'Data Analyst Fresher and Experience Vacancy',\n",
       " 'Data Analyst Opening',\n",
       " 'Data Analyst Recruitment',\n",
       " 'Data Analyst Recruitment',\n",
       " 'Hiring For Data Scientist',\n",
       " 'Business Analyst Opening',\n",
       " 'Junior Clinical Data Management',\n",
       " 'Clinical Data Specialist']"
      ]
     },
     "execution_count": 9,
     "metadata": {},
     "output_type": "execute_result"
    }
   ],
   "source": [
    "# Extracting the titles of the job\n",
    "\n",
    "job_title2 = driver.find_elements(By.CLASS_NAME,\"jobCard_pReplaceH2__xWmHg\")\n",
    "job_titles2 = []\n",
    "\n",
    "#using loop to iterate over all the names\n",
    "for i in job_title2[:10]:\n",
    "    title = i.text\n",
    "    job_titles2.append(title)\n",
    "\n",
    "    #printing output\n",
    "job_titles2\n"
   ]
  },
  {
   "cell_type": "code",
   "execution_count": 21,
   "id": "5bc5e3a1",
   "metadata": {},
   "outputs": [
    {
     "data": {
      "text/plain": [
       "['0 to 4 Yrs',\n",
       " '0 to 1 Yr',\n",
       " '0 to 4 Yrs',\n",
       " '0 to 4 Yrs',\n",
       " '0 to 4 Yrs',\n",
       " '0 to 4 Yrs',\n",
       " '0 to 4 Yrs',\n",
       " '0 to 4 Yrs',\n",
       " '0 to 1 Yr',\n",
       " '0 to 2 Yrs']"
      ]
     },
     "execution_count": 21,
     "metadata": {},
     "output_type": "execute_result"
    }
   ],
   "source": [
    "#Extracting experience from website\n",
    "\n",
    "exp_req=driver.find_elements(By.XPATH,'//div[@class=\" jobCard_jobCard_lists_item__YxRkV jobCard_jobIcon__3FB1t\"]')\n",
    "\n",
    "experience_required = []\n",
    "for i in exp_req[:10]:\n",
    "    names= i.text\n",
    "    experience_required.append(names)\n",
    "    \n",
    "experience_required\n",
    "\n"
   ]
  },
  {
   "cell_type": "code",
   "execution_count": 25,
   "id": "79288322",
   "metadata": {},
   "outputs": [
    {
     "data": {
      "text/plain": [
       "['appsoft solutions',\n",
       " 'techno endura',\n",
       " 'radhika enterprises',\n",
       " 'radhika enterprises',\n",
       " 'radhika enterprises',\n",
       " 'radhika enterprises',\n",
       " 'neelima staffing solution',\n",
       " 'divya staffing solution',\n",
       " 'techno endura',\n",
       " 'techno endura']"
      ]
     },
     "execution_count": 25,
     "metadata": {},
     "output_type": "execute_result"
    }
   ],
   "source": [
    "#finding name using XPATH \n",
    "\n",
    "name = driver.find_elements(By.XPATH, '//div[@class=\"jobCard_jobCard_cName__mYnow\"]/span')\n",
    "names =[]\n",
    "\n",
    "for i in name[:10]:\n",
    "    name1 = i.text\n",
    "    names.append(name1)\n",
    "names"
   ]
  },
  {
   "cell_type": "code",
   "execution_count": 27,
   "id": "5d6f8cf5",
   "metadata": {},
   "outputs": [
    {
     "data": {
      "text/plain": [
       "['Bangalore\\n+8',\n",
       " 'Bangalore\\n+6',\n",
       " 'Bangalore\\n+12',\n",
       " 'Bangalore\\n+12',\n",
       " 'Bangalore\\n+12',\n",
       " 'Bangalore\\n+12',\n",
       " 'Bangalore\\n+15',\n",
       " 'Bangalore\\n+13',\n",
       " 'Bangalore\\n+6',\n",
       " 'Bangalore\\n+8']"
      ]
     },
     "execution_count": 27,
     "metadata": {},
     "output_type": "execute_result"
    }
   ],
   "source": [
    "#Extracting location\n",
    "\n",
    "location = driver.find_elements(By.XPATH, '//div[@class=\" jobCard_jobCard_lists_item__YxRkV jobCard_locationIcon__zrWt2\"]')\n",
    "locations =[]\n",
    "\n",
    "for i in location[:10]:\n",
    "    location1 = i.text\n",
    "    locations.append(location1)\n",
    "    \n",
    "locations"
   ]
  },
  {
   "cell_type": "code",
   "execution_count": 35,
   "id": "700c1f13",
   "metadata": {},
   "outputs": [
    {
     "data": {
      "text/html": [
       "<div>\n",
       "<style scoped>\n",
       "    .dataframe tbody tr th:only-of-type {\n",
       "        vertical-align: middle;\n",
       "    }\n",
       "\n",
       "    .dataframe tbody tr th {\n",
       "        vertical-align: top;\n",
       "    }\n",
       "\n",
       "    .dataframe thead th {\n",
       "        text-align: right;\n",
       "    }\n",
       "</style>\n",
       "<table border=\"1\" class=\"dataframe\">\n",
       "  <thead>\n",
       "    <tr style=\"text-align: right;\">\n",
       "      <th></th>\n",
       "      <th>Title</th>\n",
       "      <th>Comapny Name</th>\n",
       "      <th>Exp Req.</th>\n",
       "      <th>Location</th>\n",
       "    </tr>\n",
       "  </thead>\n",
       "  <tbody>\n",
       "    <tr>\n",
       "      <th>1</th>\n",
       "      <td>Data Analyst , Senior Data Analyst , Data Anal...</td>\n",
       "      <td>appsoft solutions</td>\n",
       "      <td>0 to 4 Yrs</td>\n",
       "      <td>Bangalore\\n+8</td>\n",
       "    </tr>\n",
       "    <tr>\n",
       "      <th>2</th>\n",
       "      <td>Clinical Data Analyst</td>\n",
       "      <td>techno endura</td>\n",
       "      <td>0 to 1 Yr</td>\n",
       "      <td>Bangalore\\n+6</td>\n",
       "    </tr>\n",
       "    <tr>\n",
       "      <th>3</th>\n",
       "      <td>Data Analyst Fresher and Experience Vacancy</td>\n",
       "      <td>radhika enterprises</td>\n",
       "      <td>0 to 4 Yrs</td>\n",
       "      <td>Bangalore\\n+12</td>\n",
       "    </tr>\n",
       "    <tr>\n",
       "      <th>4</th>\n",
       "      <td>Data Analyst Opening</td>\n",
       "      <td>radhika enterprises</td>\n",
       "      <td>0 to 4 Yrs</td>\n",
       "      <td>Bangalore\\n+12</td>\n",
       "    </tr>\n",
       "    <tr>\n",
       "      <th>5</th>\n",
       "      <td>Data Analyst Recruitment</td>\n",
       "      <td>radhika enterprises</td>\n",
       "      <td>0 to 4 Yrs</td>\n",
       "      <td>Bangalore\\n+12</td>\n",
       "    </tr>\n",
       "    <tr>\n",
       "      <th>6</th>\n",
       "      <td>Data Analyst Recruitment</td>\n",
       "      <td>radhika enterprises</td>\n",
       "      <td>0 to 4 Yrs</td>\n",
       "      <td>Bangalore\\n+12</td>\n",
       "    </tr>\n",
       "    <tr>\n",
       "      <th>7</th>\n",
       "      <td>Hiring For Data Scientist</td>\n",
       "      <td>neelima staffing solution</td>\n",
       "      <td>0 to 4 Yrs</td>\n",
       "      <td>Bangalore\\n+15</td>\n",
       "    </tr>\n",
       "    <tr>\n",
       "      <th>8</th>\n",
       "      <td>Business Analyst Opening</td>\n",
       "      <td>divya staffing solution</td>\n",
       "      <td>0 to 4 Yrs</td>\n",
       "      <td>Bangalore\\n+13</td>\n",
       "    </tr>\n",
       "    <tr>\n",
       "      <th>9</th>\n",
       "      <td>Junior Clinical Data Management</td>\n",
       "      <td>techno endura</td>\n",
       "      <td>0 to 1 Yr</td>\n",
       "      <td>Bangalore\\n+6</td>\n",
       "    </tr>\n",
       "    <tr>\n",
       "      <th>10</th>\n",
       "      <td>Clinical Data Specialist</td>\n",
       "      <td>techno endura</td>\n",
       "      <td>0 to 2 Yrs</td>\n",
       "      <td>Bangalore\\n+8</td>\n",
       "    </tr>\n",
       "  </tbody>\n",
       "</table>\n",
       "</div>"
      ],
      "text/plain": [
       "                                                Title  \\\n",
       "1   Data Analyst , Senior Data Analyst , Data Anal...   \n",
       "2                               Clinical Data Analyst   \n",
       "3         Data Analyst Fresher and Experience Vacancy   \n",
       "4                                Data Analyst Opening   \n",
       "5                            Data Analyst Recruitment   \n",
       "6                            Data Analyst Recruitment   \n",
       "7                           Hiring For Data Scientist   \n",
       "8                            Business Analyst Opening   \n",
       "9                     Junior Clinical Data Management   \n",
       "10                           Clinical Data Specialist   \n",
       "\n",
       "                 Comapny Name    Exp Req.        Location  \n",
       "1           appsoft solutions  0 to 4 Yrs   Bangalore\\n+8  \n",
       "2               techno endura   0 to 1 Yr   Bangalore\\n+6  \n",
       "3         radhika enterprises  0 to 4 Yrs  Bangalore\\n+12  \n",
       "4         radhika enterprises  0 to 4 Yrs  Bangalore\\n+12  \n",
       "5         radhika enterprises  0 to 4 Yrs  Bangalore\\n+12  \n",
       "6         radhika enterprises  0 to 4 Yrs  Bangalore\\n+12  \n",
       "7   neelima staffing solution  0 to 4 Yrs  Bangalore\\n+15  \n",
       "8     divya staffing solution  0 to 4 Yrs  Bangalore\\n+13  \n",
       "9               techno endura   0 to 1 Yr   Bangalore\\n+6  \n",
       "10              techno endura  0 to 2 Yrs   Bangalore\\n+8  "
      ]
     },
     "execution_count": 35,
     "metadata": {},
     "output_type": "execute_result"
    }
   ],
   "source": [
    "df= pd.DataFrame ({'Title': job_titles2, 'Comapny Name': names, 'Exp Req.':experience_required, 'Location': locations})\n",
    "df.index+=1\n",
    "df"
   ]
  },
  {
   "cell_type": "code",
   "execution_count": null,
   "id": "c9344336",
   "metadata": {},
   "outputs": [],
   "source": [
    "\n",
    "\n"
   ]
  },
  {
   "cell_type": "markdown",
   "id": "b4abc0b4",
   "metadata": {},
   "source": [
    "# Q3 Flipkart Selenium\n"
   ]
  },
  {
   "cell_type": "code",
   "execution_count": 124,
   "id": "4c19d0ae",
   "metadata": {},
   "outputs": [],
   "source": [
    "#importing all required liabraries \n",
    "\n",
    "import selenium \n",
    "import pandas as pd\n",
    "from selenium import webdriver\n",
    "import warnings\n",
    "warnings.filterwarnings('ignore')\n",
    "from selenium.webdriver.common.by import By\n",
    "import time"
   ]
  },
  {
   "cell_type": "code",
   "execution_count": 125,
   "id": "521c89c1",
   "metadata": {},
   "outputs": [],
   "source": [
    "#Opening chrome and opening website\n",
    "\n",
    "driver= webdriver.Chrome()\n",
    "driver.get('https://flipkart.com/apple-iphone-11-black-64-gb/product-reviews/itm4e5041ba101fd?pid=MOBFWQ6BXGJCEYNY&lid=LSTMOBFWQ6BXGJCEYNYZXSHRJ&marketplace=FLIPKART&page=1')"
   ]
  },
  {
   "cell_type": "code",
   "execution_count": 81,
   "id": "b2a1af94",
   "metadata": {},
   "outputs": [],
   "source": [
    "#creating empty list\n",
    "links =[]\n",
    "\n",
    "start=0\n",
    "end=10\n",
    "\n",
    "#creating loop to change page\n",
    "for page in range(start,end):\n",
    "    titles = driver.find_elements(By.XPATH,'//div[@class=\"XQDdHH Ga3i8K\"]')\n",
    "    \n",
    "    #using for loop to extract name and appending into list\n",
    "    for i in titles:\n",
    "            links.append(i.text +  \" STAR\")\n",
    "    next_button =driver.find_element(By.XPATH,'//a[@class=\"_9QVEpD\"]')\n",
    "    next_button.click()\n",
    "    time.sleep(5)"
   ]
  },
  {
   "cell_type": "code",
   "execution_count": 76,
   "id": "a69298b8",
   "metadata": {},
   "outputs": [],
   "source": [
    "#creating empty list\n",
    "review_s =[]\n",
    "\n",
    "start =0\n",
    "end =10\n",
    "#creating loop to change pages automatically\n",
    "for page in range(start,end):\n",
    "    review = driver.find_elements(By.XPATH,'//p[@class=\"z9E0IG\"]')\n",
    "    \n",
    "    for i in review:\n",
    "        review_s.append(i.text)\n",
    "    next_button =driver.find_element(By.XPATH,'//a[@class=\"_9QVEpD\"]')\n",
    "    next_button.click()\n",
    "    time.sleep(5)"
   ]
  },
  {
   "cell_type": "code",
   "execution_count": 79,
   "id": "4857d823",
   "metadata": {},
   "outputs": [],
   "source": [
    "#creating empty list\n",
    "review1 =[]\n",
    "start = 0\n",
    "end = 10\n",
    "\n",
    "#creating loop to change the page automatically\n",
    "for page in range(start, end):\n",
    "    reviewf= driver.find_elements(By.XPATH,'//div[@class=\"ZmyHeo\"]')\n",
    "    \n",
    "    for i in reviewf:\n",
    "        review1.append(i.text)\n",
    "    next_button =driver.find_element(By.XPATH,'//a[@class=\"_9QVEpD\"]')\n",
    "    next_button.click()\n",
    "    time.sleep(5)"
   ]
  },
  {
   "cell_type": "code",
   "execution_count": 87,
   "id": "19ddd439",
   "metadata": {},
   "outputs": [
    {
     "data": {
      "text/html": [
       "<div>\n",
       "<style scoped>\n",
       "    .dataframe tbody tr th:only-of-type {\n",
       "        vertical-align: middle;\n",
       "    }\n",
       "\n",
       "    .dataframe tbody tr th {\n",
       "        vertical-align: top;\n",
       "    }\n",
       "\n",
       "    .dataframe thead th {\n",
       "        text-align: right;\n",
       "    }\n",
       "</style>\n",
       "<table border=\"1\" class=\"dataframe\">\n",
       "  <thead>\n",
       "    <tr style=\"text-align: right;\">\n",
       "      <th></th>\n",
       "      <th>Ratings</th>\n",
       "      <th>Review Summary</th>\n",
       "      <th>Reviews</th>\n",
       "    </tr>\n",
       "    <tr>\n",
       "      <th>Iphone 11 DATA</th>\n",
       "      <th></th>\n",
       "      <th></th>\n",
       "      <th></th>\n",
       "    </tr>\n",
       "  </thead>\n",
       "  <tbody>\n",
       "    <tr>\n",
       "      <th>1</th>\n",
       "      <td>5 STAR</td>\n",
       "      <td>Highly recommended</td>\n",
       "      <td>Camera is awesome\\nBest battery backup\\nA perf...</td>\n",
       "    </tr>\n",
       "    <tr>\n",
       "      <th>2</th>\n",
       "      <td>5 STAR</td>\n",
       "      <td>Value-for-money</td>\n",
       "      <td>Very very good</td>\n",
       "    </tr>\n",
       "    <tr>\n",
       "      <th>3</th>\n",
       "      <td>5 STAR</td>\n",
       "      <td>Wonderful</td>\n",
       "      <td>This is amazing at all</td>\n",
       "    </tr>\n",
       "    <tr>\n",
       "      <th>4</th>\n",
       "      <td>5 STAR</td>\n",
       "      <td>Brilliant</td>\n",
       "      <td>Feeling awesome after getting the delivery of ...</td>\n",
       "    </tr>\n",
       "    <tr>\n",
       "      <th>5</th>\n",
       "      <td>5 STAR</td>\n",
       "      <td>Wonderful</td>\n",
       "      <td>Good Camera</td>\n",
       "    </tr>\n",
       "    <tr>\n",
       "      <th>...</th>\n",
       "      <td>...</td>\n",
       "      <td>...</td>\n",
       "      <td>...</td>\n",
       "    </tr>\n",
       "    <tr>\n",
       "      <th>96</th>\n",
       "      <td>5 STAR</td>\n",
       "      <td>Terrific purchase</td>\n",
       "      <td>iPhone 11 is a good phone. Not a very big diff...</td>\n",
       "    </tr>\n",
       "    <tr>\n",
       "      <th>97</th>\n",
       "      <td>5 STAR</td>\n",
       "      <td>Perfect product!</td>\n",
       "      <td>Good product 👌I love iPhone</td>\n",
       "    </tr>\n",
       "    <tr>\n",
       "      <th>98</th>\n",
       "      <td>5 STAR</td>\n",
       "      <td>Perfect product!</td>\n",
       "      <td>Excellent Phone.</td>\n",
       "    </tr>\n",
       "    <tr>\n",
       "      <th>99</th>\n",
       "      <td>5 STAR</td>\n",
       "      <td>Just wow!</td>\n",
       "      <td>Go for iPhone 11 , if confused between iPhone ...</td>\n",
       "    </tr>\n",
       "    <tr>\n",
       "      <th>100</th>\n",
       "      <td>5 STAR</td>\n",
       "      <td>Excellent</td>\n",
       "      <td>Superbb performance n camera is awesome 😍😍</td>\n",
       "    </tr>\n",
       "  </tbody>\n",
       "</table>\n",
       "<p>100 rows × 3 columns</p>\n",
       "</div>"
      ],
      "text/plain": [
       "               Ratings      Review Summary  \\\n",
       "Iphone 11 DATA                               \n",
       "1               5 STAR  Highly recommended   \n",
       "2               5 STAR     Value-for-money   \n",
       "3               5 STAR           Wonderful   \n",
       "4               5 STAR           Brilliant   \n",
       "5               5 STAR           Wonderful   \n",
       "...                ...                 ...   \n",
       "96              5 STAR   Terrific purchase   \n",
       "97              5 STAR    Perfect product!   \n",
       "98              5 STAR    Perfect product!   \n",
       "99              5 STAR           Just wow!   \n",
       "100             5 STAR           Excellent   \n",
       "\n",
       "                                                         Reviews   \n",
       "Iphone 11 DATA                                                     \n",
       "1               Camera is awesome\\nBest battery backup\\nA perf...  \n",
       "2                                                  Very very good  \n",
       "3                                          This is amazing at all  \n",
       "4               Feeling awesome after getting the delivery of ...  \n",
       "5                                                     Good Camera  \n",
       "...                                                           ...  \n",
       "96              iPhone 11 is a good phone. Not a very big diff...  \n",
       "97                                    Good product 👌I love iPhone  \n",
       "98                                               Excellent Phone.  \n",
       "99              Go for iPhone 11 , if confused between iPhone ...  \n",
       "100                    Superbb performance n camera is awesome 😍😍  \n",
       "\n",
       "[100 rows x 3 columns]"
      ]
     },
     "execution_count": 87,
     "metadata": {},
     "output_type": "execute_result"
    }
   ],
   "source": [
    "#creatingh dataframe to show the extracted data \n",
    "df = pd.DataFrame({'Ratings': links, 'Review Summary':review_s, 'Reviews ':review1})\n",
    "df=df.rename_axis('Iphone 11 DATA')\n",
    "df.index+=1\n",
    "\n",
    "#printing dataframe\n",
    "df"
   ]
  },
  {
   "cell_type": "code",
   "execution_count": null,
   "id": "ef469948",
   "metadata": {},
   "outputs": [],
   "source": [
    "\n"
   ]
  },
  {
   "cell_type": "markdown",
   "id": "8abf4a60",
   "metadata": {},
   "source": [
    "# Q.4 100 Sneakers"
   ]
  },
  {
   "cell_type": "code",
   "execution_count": 126,
   "id": "8cc92d3e",
   "metadata": {},
   "outputs": [],
   "source": [
    "#importing all required liabraries \n",
    "\n",
    "import selenium \n",
    "import pandas as pd\n",
    "from selenium import webdriver\n",
    "import warnings\n",
    "warnings.filterwarnings('ignore')\n",
    "from selenium.webdriver.common.by import By\n",
    "import time"
   ]
  },
  {
   "cell_type": "code",
   "execution_count": 127,
   "id": "ac2aaf6d",
   "metadata": {},
   "outputs": [],
   "source": [
    "#Opening Chrome & Opening Website On That Browser\n",
    "\n",
    "driver= webdriver.Chrome()\n",
    "driver.get('https://www.flipkart.com/search?q=sneakers&otracker=search&otracker1=search&marketplace=FLIPKART&as-show=on&as=off')"
   ]
  },
  {
   "cell_type": "code",
   "execution_count": 130,
   "id": "1e903573",
   "metadata": {},
   "outputs": [],
   "source": [
    "#creating empty list\n",
    "brand =[]\n",
    "\n",
    "start=0\n",
    "end=3\n",
    "\n",
    "#creating loop to start and end the page and change the page\n",
    "for page in range(start,end):\n",
    "    sneakers = driver.find_elements(By.XPATH,'//div[@class=\"syl9yP\"]')\n",
    "    \n",
    "    for i in sneakers:\n",
    "        brand.append(i.text)\n",
    "        if len(brand) >= 100:\n",
    "            break\n",
    "    \n",
    "    #clicking on next button\n",
    "    next_button= driver.find_element(By.XPATH,'//*[@id=\"container\"]/div/div[3]/div[1]/div[2]/div[12]/div/div/nav/a[11]')\n",
    "    next_button.click()\n",
    "    time.sleep(5)"
   ]
  },
  {
   "cell_type": "code",
   "execution_count": 131,
   "id": "280fed58",
   "metadata": {},
   "outputs": [
    {
     "data": {
      "text/plain": [
       "100"
      ]
     },
     "execution_count": 131,
     "metadata": {},
     "output_type": "execute_result"
    }
   ],
   "source": [
    "#checking the length of brand\n",
    "len(brand)"
   ]
  },
  {
   "cell_type": "code",
   "execution_count": 132,
   "id": "66b2e806",
   "metadata": {},
   "outputs": [],
   "source": [
    "#creating empty list\n",
    "ProductD =[]\n",
    "start=0\n",
    "end=3\n",
    "\n",
    "#creating loop to set range\n",
    "for page in range(start,end):\n",
    "    Description = driver.find_elements(By.XPATH,'//div[@class=\"hCKiGj\"]/a[1]')\n",
    "    \n",
    "    for i in Description:\n",
    "        ProductD.append(i.text)\n",
    "        if len(ProductD) >=100:\n",
    "            break\n",
    "            \n",
    "    next_button= driver.find_element(By.XPATH,'//*[@id=\"container\"]/div/div[3]/div[1]/div[2]/div[12]/div/div/nav/a[11]')\n",
    "    next_button.click()\n",
    "    time.sleep(5)"
   ]
  },
  {
   "cell_type": "code",
   "execution_count": 133,
   "id": "33196176",
   "metadata": {},
   "outputs": [
    {
     "data": {
      "text/plain": [
       "100"
      ]
     },
     "execution_count": 133,
     "metadata": {},
     "output_type": "execute_result"
    }
   ],
   "source": [
    "# checking the length of extracted data\n",
    "len(ProductD)"
   ]
  },
  {
   "cell_type": "code",
   "execution_count": 134,
   "id": "1ed6402a",
   "metadata": {},
   "outputs": [],
   "source": [
    "#creating empty list\n",
    "mrp = []\n",
    "start=0\n",
    "end=3\n",
    "\n",
    "for page in range(start,end):\n",
    "    Sale= driver.find_elements(By.XPATH,'//div[@class=\"yRaY8j\"]')\n",
    "    \n",
    "    for i in Sale:\n",
    "        Rate= i.text\n",
    "        mrp.append(Rate)\n",
    "        \n",
    "        #setting the limit of 100 data\n",
    "        if len(mrp) >=100:\n",
    "            break\n",
    "            \n",
    "    next_button= driver.find_element(By.XPATH,'//*[@id=\"container\"]/div/div[3]/div[1]/div[2]/div[12]/div/div/nav/a[11]')\n",
    "    next_button.click()\n",
    "    time.sleep(5)\n",
    "            "
   ]
  },
  {
   "cell_type": "code",
   "execution_count": 135,
   "id": "4d56ae21",
   "metadata": {},
   "outputs": [
    {
     "data": {
      "text/plain": [
       "100"
      ]
     },
     "execution_count": 135,
     "metadata": {},
     "output_type": "execute_result"
    }
   ],
   "source": [
    "#checking the length\n",
    "len(mrp)"
   ]
  },
  {
   "cell_type": "code",
   "execution_count": 136,
   "id": "01d7f90c",
   "metadata": {},
   "outputs": [],
   "source": [
    "#creating empty list\n",
    "\n",
    "price =[]\n",
    "start=0\n",
    "end=3\n",
    "\n",
    "for page in range(start,end):\n",
    "    rate= driver.find_elements(By.XPATH,'//div[@class=\"Nx9bqj\"]')\n",
    "    \n",
    "    for i in rate:\n",
    "        price.append(i.text)\n",
    "        if len(price)>= 100:\n",
    "            break\n",
    "            \n",
    "    #Clicking the button to change the page        \n",
    "    next_button= driver.find_element(By.XPATH,'//*[@id=\"container\"]/div/div[3]/div[1]/div[2]/div[12]/div/div/nav/a[11]')\n",
    "    next_button.click()\n",
    "    time.sleep(5)\n",
    "            \n",
    "            "
   ]
  },
  {
   "cell_type": "code",
   "execution_count": 137,
   "id": "37284d7c",
   "metadata": {},
   "outputs": [
    {
     "data": {
      "text/plain": [
       "100"
      ]
     },
     "execution_count": 137,
     "metadata": {},
     "output_type": "execute_result"
    }
   ],
   "source": [
    "#checking the length\n",
    "len(price)"
   ]
  },
  {
   "cell_type": "code",
   "execution_count": 138,
   "id": "f940dc59",
   "metadata": {},
   "outputs": [
    {
     "data": {
      "text/html": [
       "<div>\n",
       "<style scoped>\n",
       "    .dataframe tbody tr th:only-of-type {\n",
       "        vertical-align: middle;\n",
       "    }\n",
       "\n",
       "    .dataframe tbody tr th {\n",
       "        vertical-align: top;\n",
       "    }\n",
       "\n",
       "    .dataframe thead th {\n",
       "        text-align: right;\n",
       "    }\n",
       "</style>\n",
       "<table border=\"1\" class=\"dataframe\">\n",
       "  <thead>\n",
       "    <tr style=\"text-align: right;\">\n",
       "      <th></th>\n",
       "      <th>Brand</th>\n",
       "      <th>Product Description</th>\n",
       "      <th>MRP</th>\n",
       "      <th>Price</th>\n",
       "    </tr>\n",
       "  </thead>\n",
       "  <tbody>\n",
       "    <tr>\n",
       "      <th>1</th>\n",
       "      <td>VECHLO</td>\n",
       "      <td>KLJL39661 Lightweight Comfort Summer Trendy Pr...</td>\n",
       "      <td>₹3,999</td>\n",
       "      <td>₹1,000</td>\n",
       "    </tr>\n",
       "    <tr>\n",
       "      <th>2</th>\n",
       "      <td>BRUTON</td>\n",
       "      <td>HOPPER Flat Sole White Sneakers Shoes All Day ...</td>\n",
       "      <td>₹999</td>\n",
       "      <td>₹293</td>\n",
       "    </tr>\n",
       "    <tr>\n",
       "      <th>3</th>\n",
       "      <td>URBANBOX</td>\n",
       "      <td>Sneakers For Men</td>\n",
       "      <td>₹7,499</td>\n",
       "      <td>₹3,199</td>\n",
       "    </tr>\n",
       "    <tr>\n",
       "      <th>4</th>\n",
       "      <td>RED TAPE</td>\n",
       "      <td>Sneakers For Men</td>\n",
       "      <td>₹3,699</td>\n",
       "      <td>₹1,099</td>\n",
       "    </tr>\n",
       "    <tr>\n",
       "      <th>5</th>\n",
       "      <td>RED TAPE</td>\n",
       "      <td>Sneakers For Men</td>\n",
       "      <td>₹1,099</td>\n",
       "      <td>₹399</td>\n",
       "    </tr>\n",
       "    <tr>\n",
       "      <th>...</th>\n",
       "      <td>...</td>\n",
       "      <td>...</td>\n",
       "      <td>...</td>\n",
       "      <td>...</td>\n",
       "    </tr>\n",
       "    <tr>\n",
       "      <th>96</th>\n",
       "      <td>PUMA</td>\n",
       "      <td>Sneaker Casual Shoes For Men | Soft Cushion In...</td>\n",
       "      <td>₹5,599</td>\n",
       "      <td>₹1,119</td>\n",
       "    </tr>\n",
       "    <tr>\n",
       "      <th>97</th>\n",
       "      <td>Skechers</td>\n",
       "      <td>Turin 3 Sneakers For Men</td>\n",
       "      <td>₹4,799</td>\n",
       "      <td>₹2,159</td>\n",
       "    </tr>\n",
       "    <tr>\n",
       "      <th>98</th>\n",
       "      <td>Combit</td>\n",
       "      <td>( by GO21 ) Soft Insole, Slip-Resistance|Walki...</td>\n",
       "      <td>₹3,599</td>\n",
       "      <td>₹995</td>\n",
       "    </tr>\n",
       "    <tr>\n",
       "      <th>99</th>\n",
       "      <td>New Balance</td>\n",
       "      <td>Puma Kinta Wns Sneakers For Women</td>\n",
       "      <td>₹4,499</td>\n",
       "      <td>₹2,209</td>\n",
       "    </tr>\n",
       "    <tr>\n",
       "      <th>100</th>\n",
       "      <td>PUMA</td>\n",
       "      <td>PEGASUS Men's Fashion Sneakers Lace-Up Trainer...</td>\n",
       "      <td>₹3,499</td>\n",
       "      <td>₹1,499</td>\n",
       "    </tr>\n",
       "  </tbody>\n",
       "</table>\n",
       "<p>100 rows × 4 columns</p>\n",
       "</div>"
      ],
      "text/plain": [
       "           Brand                                Product Description     MRP  \\\n",
       "1         VECHLO  KLJL39661 Lightweight Comfort Summer Trendy Pr...  ₹3,999   \n",
       "2         BRUTON  HOPPER Flat Sole White Sneakers Shoes All Day ...    ₹999   \n",
       "3       URBANBOX                                   Sneakers For Men  ₹7,499   \n",
       "4       RED TAPE                                   Sneakers For Men  ₹3,699   \n",
       "5       RED TAPE                                   Sneakers For Men  ₹1,099   \n",
       "..           ...                                                ...     ...   \n",
       "96          PUMA  Sneaker Casual Shoes For Men | Soft Cushion In...  ₹5,599   \n",
       "97      Skechers                           Turin 3 Sneakers For Men  ₹4,799   \n",
       "98        Combit  ( by GO21 ) Soft Insole, Slip-Resistance|Walki...  ₹3,599   \n",
       "99   New Balance                  Puma Kinta Wns Sneakers For Women  ₹4,499   \n",
       "100         PUMA  PEGASUS Men's Fashion Sneakers Lace-Up Trainer...  ₹3,499   \n",
       "\n",
       "      Price  \n",
       "1    ₹1,000  \n",
       "2      ₹293  \n",
       "3    ₹3,199  \n",
       "4    ₹1,099  \n",
       "5      ₹399  \n",
       "..      ...  \n",
       "96   ₹1,119  \n",
       "97   ₹2,159  \n",
       "98     ₹995  \n",
       "99   ₹2,209  \n",
       "100  ₹1,499  \n",
       "\n",
       "[100 rows x 4 columns]"
      ]
     },
     "execution_count": 138,
     "metadata": {},
     "output_type": "execute_result"
    }
   ],
   "source": [
    "#dataframe for showing the data\n",
    "\n",
    "df = pd.DataFrame({'Brand':brand,'Product Description':ProductD  ,'MRP':mrp , 'Price': price})\n",
    "df.index+=1\n",
    "df"
   ]
  },
  {
   "cell_type": "code",
   "execution_count": null,
   "id": "41693fe5",
   "metadata": {},
   "outputs": [],
   "source": [
    "\n",
    "\n"
   ]
  },
  {
   "cell_type": "markdown",
   "id": "ad8a5134",
   "metadata": {},
   "source": [
    "# Q.5 Amazon Laptop Selenium\n"
   ]
  },
  {
   "cell_type": "code",
   "execution_count": 139,
   "id": "d5d2e77f",
   "metadata": {},
   "outputs": [],
   "source": [
    "#importing all required liabraries \n",
    "\n",
    "import selenium \n",
    "import pandas as pd\n",
    "from selenium import webdriver\n",
    "import warnings\n",
    "warnings.filterwarnings('ignore')\n",
    "from selenium.webdriver.common.by import By\n",
    "import time"
   ]
  },
  {
   "cell_type": "code",
   "execution_count": 142,
   "id": "950c8273",
   "metadata": {},
   "outputs": [],
   "source": [
    "#opening browser and website\n",
    "\n",
    "driver= webdriver.Chrome()\n",
    "driver.get('https://www.amazon.in/')"
   ]
  },
  {
   "cell_type": "code",
   "execution_count": 144,
   "id": "2a8c826b",
   "metadata": {},
   "outputs": [],
   "source": [
    "#giving input in the box\n",
    "\n",
    "Search = driver.find_element(By.XPATH,'//*[@id=\"twotabsearchtextbox\"]')\n",
    "Search.send_keys('Laptop')"
   ]
  },
  {
   "cell_type": "code",
   "execution_count": 145,
   "id": "8d11917b",
   "metadata": {},
   "outputs": [],
   "source": [
    "#clicking on the box\n",
    "\n",
    "click = driver.find_element(By.XPATH,'//*[@id=\"nav-search-submit-button\"]')\n",
    "click.click()"
   ]
  },
  {
   "cell_type": "code",
   "execution_count": 146,
   "id": "12ded42d",
   "metadata": {},
   "outputs": [],
   "source": [
    "#selecting the filter box\n",
    "\n",
    "intel = driver.find_element(By.XPATH,'//*[@id=\"p_n_feature_twenty-three_browse-bin/27387168031\"]/span/a/div')\n",
    "intel.click()"
   ]
  },
  {
   "cell_type": "code",
   "execution_count": 147,
   "id": "959f22a0",
   "metadata": {},
   "outputs": [],
   "source": [
    "#clicking on the element box\n",
    "core = driver.find_element(By.XPATH,'//*[@id=\"p_n_feature_thirteen_browse-bin/12598163031\"]/span/a/div')\n",
    "core.click()"
   ]
  },
  {
   "cell_type": "code",
   "execution_count": 149,
   "id": "cb6d9a24",
   "metadata": {},
   "outputs": [
    {
     "data": {
      "text/plain": [
       "10"
      ]
     },
     "execution_count": 149,
     "metadata": {},
     "output_type": "execute_result"
    }
   ],
   "source": [
    "#extracting data \n",
    "name=[]\n",
    "\n",
    "namel = driver.find_elements(By.XPATH,'//span[@class=\"a-size-medium a-color-base a-text-normal\"]')\n",
    "\n",
    "for i in namel[:10]:\n",
    "    name.append(i.text)\n",
    "    \n",
    "len(name)"
   ]
  },
  {
   "cell_type": "code",
   "execution_count": 175,
   "id": "71648daf",
   "metadata": {},
   "outputs": [
    {
     "data": {
      "text/plain": [
       "['4.4', '4.1', '3.8', '4.0', '4.1', '3.5', '4.4', '3.7', '4.2', '3.4']"
      ]
     },
     "execution_count": 175,
     "metadata": {},
     "output_type": "execute_result"
    }
   ],
   "source": [
    "import re\n",
    "rating= []\n",
    "\n",
    "ratings = driver.find_elements(By.XPATH,'//span[@class=\"a-icon-alt\"]')\n",
    "\n",
    "for i in ratings[:10]:\n",
    "    rating_text = i.get_attribute('innerText')\n",
    "    \n",
    "    #Using Regular Expression to clean data\n",
    "    numeric_part = re.search(r'\\d+(\\.\\d+)?', rating_text).group()\n",
    "    rating.append(numeric_part)\n",
    "    \n",
    "    \n",
    "rating\n",
    "\n"
   ]
  },
  {
   "cell_type": "code",
   "execution_count": 162,
   "id": "e484ed4d",
   "metadata": {},
   "outputs": [
    {
     "data": {
      "text/plain": [
       "10"
      ]
     },
     "execution_count": 162,
     "metadata": {},
     "output_type": "execute_result"
    }
   ],
   "source": [
    "#ceating empty list to store elements\n",
    "price = []\n",
    "\n",
    "price1= driver.find_elements(By.XPATH,'//span[@class=\"a-price-whole\"]')\n",
    "\n",
    "for i in price1[:10]:\n",
    "    price.append(i.text)\n",
    "    \n",
    "#length of the list\n",
    "len(price)"
   ]
  },
  {
   "cell_type": "code",
   "execution_count": 176,
   "id": "701b13a1",
   "metadata": {},
   "outputs": [
    {
     "data": {
      "text/html": [
       "<div>\n",
       "<style scoped>\n",
       "    .dataframe tbody tr th:only-of-type {\n",
       "        vertical-align: middle;\n",
       "    }\n",
       "\n",
       "    .dataframe tbody tr th {\n",
       "        vertical-align: top;\n",
       "    }\n",
       "\n",
       "    .dataframe thead th {\n",
       "        text-align: right;\n",
       "    }\n",
       "</style>\n",
       "<table border=\"1\" class=\"dataframe\">\n",
       "  <thead>\n",
       "    <tr style=\"text-align: right;\">\n",
       "      <th></th>\n",
       "      <th>Title</th>\n",
       "      <th>Ratings</th>\n",
       "      <th>Price</th>\n",
       "    </tr>\n",
       "  </thead>\n",
       "  <tbody>\n",
       "    <tr>\n",
       "      <th>1</th>\n",
       "      <td>Dell Inspiron 7420 2in1 Laptop, Intel Core i7-...</td>\n",
       "      <td>4.4</td>\n",
       "      <td>77,990</td>\n",
       "    </tr>\n",
       "    <tr>\n",
       "      <th>2</th>\n",
       "      <td>Acer Aspire Lite 12th Gen Intel Core i7-1255U ...</td>\n",
       "      <td>4.1</td>\n",
       "      <td>54,990</td>\n",
       "    </tr>\n",
       "    <tr>\n",
       "      <th>3</th>\n",
       "      <td>MSI Modern 14, Intel 12th Gen. i7-1255U, 36CM ...</td>\n",
       "      <td>3.8</td>\n",
       "      <td>49,990</td>\n",
       "    </tr>\n",
       "    <tr>\n",
       "      <th>4</th>\n",
       "      <td>Lenovo IdeaPad Slim 3 Intel Core i7 11th Gen 1...</td>\n",
       "      <td>4.0</td>\n",
       "      <td>58,250</td>\n",
       "    </tr>\n",
       "    <tr>\n",
       "      <th>5</th>\n",
       "      <td>HP Laptop 15s, 12th Gen Intel Core i7-1255U, 1...</td>\n",
       "      <td>4.1</td>\n",
       "      <td>63,990</td>\n",
       "    </tr>\n",
       "    <tr>\n",
       "      <th>6</th>\n",
       "      <td>ASUS TUF Gaming F15, 15.6\"(39.62 cms) FHD 144H...</td>\n",
       "      <td>3.5</td>\n",
       "      <td>72,990</td>\n",
       "    </tr>\n",
       "    <tr>\n",
       "      <th>7</th>\n",
       "      <td>ASUS Vivobook 15, IntelCore i7-12650H 12th Gen...</td>\n",
       "      <td>4.4</td>\n",
       "      <td>64,990</td>\n",
       "    </tr>\n",
       "    <tr>\n",
       "      <th>8</th>\n",
       "      <td>HP Pavilion 14 12th Gen Intel Core i7 16GB SDR...</td>\n",
       "      <td>3.7</td>\n",
       "      <td>78,700</td>\n",
       "    </tr>\n",
       "    <tr>\n",
       "      <th>9</th>\n",
       "      <td>Acer Travelmate Business Laptop Intel Core i7-...</td>\n",
       "      <td>4.2</td>\n",
       "      <td>47,990</td>\n",
       "    </tr>\n",
       "    <tr>\n",
       "      <th>10</th>\n",
       "      <td>HP Victus Gaming Laptop, 12th Gen Intel Core i...</td>\n",
       "      <td>3.4</td>\n",
       "      <td>77,490</td>\n",
       "    </tr>\n",
       "  </tbody>\n",
       "</table>\n",
       "</div>"
      ],
      "text/plain": [
       "                                                Title Ratings   Price\n",
       "1   Dell Inspiron 7420 2in1 Laptop, Intel Core i7-...     4.4  77,990\n",
       "2   Acer Aspire Lite 12th Gen Intel Core i7-1255U ...     4.1  54,990\n",
       "3   MSI Modern 14, Intel 12th Gen. i7-1255U, 36CM ...     3.8  49,990\n",
       "4   Lenovo IdeaPad Slim 3 Intel Core i7 11th Gen 1...     4.0  58,250\n",
       "5   HP Laptop 15s, 12th Gen Intel Core i7-1255U, 1...     4.1  63,990\n",
       "6   ASUS TUF Gaming F15, 15.6\"(39.62 cms) FHD 144H...     3.5  72,990\n",
       "7   ASUS Vivobook 15, IntelCore i7-12650H 12th Gen...     4.4  64,990\n",
       "8   HP Pavilion 14 12th Gen Intel Core i7 16GB SDR...     3.7  78,700\n",
       "9   Acer Travelmate Business Laptop Intel Core i7-...     4.2  47,990\n",
       "10  HP Victus Gaming Laptop, 12th Gen Intel Core i...     3.4  77,490"
      ]
     },
     "execution_count": 176,
     "metadata": {},
     "output_type": "execute_result"
    }
   ],
   "source": [
    "#Using data Frame to showcase the data\n",
    "\n",
    "df= pd.DataFrame({'Title':name, 'Ratings':rating,'Price':price})\n",
    "df.index+=1\n",
    "df"
   ]
  },
  {
   "cell_type": "code",
   "execution_count": null,
   "id": "4c863926",
   "metadata": {},
   "outputs": [],
   "source": [
    "\n",
    "\n"
   ]
  },
  {
   "cell_type": "markdown",
   "id": "f4749602",
   "metadata": {},
   "source": [
    "# Q.6 TOP 1000 Qoutes"
   ]
  },
  {
   "cell_type": "code",
   "execution_count": 178,
   "id": "485c2a32",
   "metadata": {},
   "outputs": [],
   "source": [
    "#Opening broser to ectract the data\n",
    "\n",
    "driver= webdriver.Chrome()\n",
    "driver.get('https://www.azquotes.com/top_quotes.html')"
   ]
  },
  {
   "cell_type": "code",
   "execution_count": 185,
   "id": "a413d48e",
   "metadata": {},
   "outputs": [
    {
     "data": {
      "text/plain": [
       "1000"
      ]
     },
     "execution_count": 185,
     "metadata": {},
     "output_type": "execute_result"
    }
   ],
   "source": [
    "# creating list\n",
    "\n",
    "titles =[]\n",
    "start=0\n",
    "end=10\n",
    "\n",
    "for page in range(start,end):\n",
    "    title = driver.find_elements(By.XPATH,'//a[@class=\"title\"]')\n",
    "   \n",
    "    #sub for loop \n",
    "    for i in title:\n",
    "        titles.append(i.text)\n",
    "        if len(titles)== 1000:\n",
    "            break\n",
    "            \n",
    "    \n",
    "    #clicking Next Page\n",
    "    next_button =driver.find_element(By.XPATH,'//*[@id=\"content\"]/div/div[1]/div/div[4]/li[12]')\n",
    "    next_button.click()\n",
    "    time.sleep(5)\n",
    "    \n",
    "len(titles)  \n"
   ]
  },
  {
   "cell_type": "code",
   "execution_count": 186,
   "id": "f45e4f51",
   "metadata": {},
   "outputs": [
    {
     "data": {
      "text/plain": [
       "1000"
      ]
     },
     "execution_count": 186,
     "metadata": {},
     "output_type": "execute_result"
    }
   ],
   "source": [
    "#creating empty list\n",
    "\n",
    "author =[]\n",
    "start=0\n",
    "end=10\n",
    "#setting the range for page\n",
    "for page in range(start,end):\n",
    "    # setting the path\n",
    "    author1= driver.find_elements(By.XPATH,'//div[@class=\"author\"]')\n",
    "    \n",
    "    for i in author1:\n",
    "        author.append(i.text)\n",
    "        if len(author)==1000:\n",
    "            break\n",
    "            \n",
    "    next_button =driver.find_element(By.XPATH,'//*[@id=\"content\"]/div/div[1]/div/div[4]/li[12]')\n",
    "    next_button.click()\n",
    "    time.sleep(5)\n",
    "    \n",
    "len(author)"
   ]
  },
  {
   "cell_type": "code",
   "execution_count": 187,
   "id": "3e9fa97c",
   "metadata": {},
   "outputs": [
    {
     "data": {
      "text/plain": [
       "1000"
      ]
     },
     "execution_count": 187,
     "metadata": {},
     "output_type": "execute_result"
    }
   ],
   "source": [
    "#creating empty list\n",
    "\n",
    "type =[]\n",
    "start =0\n",
    "end=10\n",
    "for page in range(start,end):\n",
    "    type1 = driver.find_elements(By.XPATH,'//div[@class=\"tags\"]')\n",
    "    \n",
    "    for i in type1:\n",
    "        type.append(i.text)\n",
    "        if len(type)== 1000:\n",
    "            break\n",
    "    #next button to change page       \n",
    "    next_button =driver.find_element(By.XPATH,'//*[@id=\"content\"]/div/div[1]/div/div[4]/li[12]')\n",
    "    next_button.click()\n",
    "    time.sleep(5)\n",
    "    \n",
    "len(type)\n",
    "            "
   ]
  },
  {
   "cell_type": "code",
   "execution_count": 188,
   "id": "9b7186ab",
   "metadata": {},
   "outputs": [
    {
     "data": {
      "text/html": [
       "<div>\n",
       "<style scoped>\n",
       "    .dataframe tbody tr th:only-of-type {\n",
       "        vertical-align: middle;\n",
       "    }\n",
       "\n",
       "    .dataframe tbody tr th {\n",
       "        vertical-align: top;\n",
       "    }\n",
       "\n",
       "    .dataframe thead th {\n",
       "        text-align: right;\n",
       "    }\n",
       "</style>\n",
       "<table border=\"1\" class=\"dataframe\">\n",
       "  <thead>\n",
       "    <tr style=\"text-align: right;\">\n",
       "      <th></th>\n",
       "      <th>Qoute</th>\n",
       "      <th>Author</th>\n",
       "      <th>Type Of Qoute</th>\n",
       "    </tr>\n",
       "  </thead>\n",
       "  <tbody>\n",
       "    <tr>\n",
       "      <th>1</th>\n",
       "      <td>Courage is the price that life exacts for gran...</td>\n",
       "      <td>Amelia Earhart</td>\n",
       "      <td>Inspirational, Life, Success</td>\n",
       "    </tr>\n",
       "    <tr>\n",
       "      <th>2</th>\n",
       "      <td>The worst evils which mankind has ever had to ...</td>\n",
       "      <td>Ludwig von Mises</td>\n",
       "      <td>Peace, War, Government</td>\n",
       "    </tr>\n",
       "    <tr>\n",
       "      <th>3</th>\n",
       "      <td>The moment we begin to fear the opinions of ot...</td>\n",
       "      <td>Elizabeth Cady Stanton</td>\n",
       "      <td>Life, Strength, Courage</td>\n",
       "    </tr>\n",
       "    <tr>\n",
       "      <th>4</th>\n",
       "      <td>Trust yourself, you know more than you think y...</td>\n",
       "      <td>Benjamin Spock</td>\n",
       "      <td>Positive, Family, Trust</td>\n",
       "    </tr>\n",
       "    <tr>\n",
       "      <th>5</th>\n",
       "      <td>Some people want it to happen, some wish it wo...</td>\n",
       "      <td>Michael Jordan</td>\n",
       "      <td>Inspirational, Life, Motivational</td>\n",
       "    </tr>\n",
       "    <tr>\n",
       "      <th>...</th>\n",
       "      <td>...</td>\n",
       "      <td>...</td>\n",
       "      <td>...</td>\n",
       "    </tr>\n",
       "    <tr>\n",
       "      <th>996</th>\n",
       "      <td>Regret for the things we did can be tempered b...</td>\n",
       "      <td>Sydney J. Harris</td>\n",
       "      <td>Love, Inspirational, Motivational</td>\n",
       "    </tr>\n",
       "    <tr>\n",
       "      <th>997</th>\n",
       "      <td>America... just a nation of two hundred millio...</td>\n",
       "      <td>Hunter S. Thompson</td>\n",
       "      <td>Gun, Two, Qualms About</td>\n",
       "    </tr>\n",
       "    <tr>\n",
       "      <th>998</th>\n",
       "      <td>For every disciplined effort there is a multip...</td>\n",
       "      <td>Jim Rohn</td>\n",
       "      <td>Inspirational, Greatness, Best Effort</td>\n",
       "    </tr>\n",
       "    <tr>\n",
       "      <th>999</th>\n",
       "      <td>The spiritual journey is individual, highly pe...</td>\n",
       "      <td>Ram Dass</td>\n",
       "      <td>Spiritual, Truth, Yoga</td>\n",
       "    </tr>\n",
       "    <tr>\n",
       "      <th>1000</th>\n",
       "      <td>The mind is not a vessel to be filled but a fi...</td>\n",
       "      <td>Plutarch</td>\n",
       "      <td>Inspirational, Leadership, Education</td>\n",
       "    </tr>\n",
       "  </tbody>\n",
       "</table>\n",
       "<p>1000 rows × 3 columns</p>\n",
       "</div>"
      ],
      "text/plain": [
       "                                                  Qoute  \\\n",
       "1     Courage is the price that life exacts for gran...   \n",
       "2     The worst evils which mankind has ever had to ...   \n",
       "3     The moment we begin to fear the opinions of ot...   \n",
       "4     Trust yourself, you know more than you think y...   \n",
       "5     Some people want it to happen, some wish it wo...   \n",
       "...                                                 ...   \n",
       "996   Regret for the things we did can be tempered b...   \n",
       "997   America... just a nation of two hundred millio...   \n",
       "998   For every disciplined effort there is a multip...   \n",
       "999   The spiritual journey is individual, highly pe...   \n",
       "1000  The mind is not a vessel to be filled but a fi...   \n",
       "\n",
       "                      Author                          Type Of Qoute  \n",
       "1             Amelia Earhart           Inspirational, Life, Success  \n",
       "2           Ludwig von Mises                 Peace, War, Government  \n",
       "3     Elizabeth Cady Stanton                Life, Strength, Courage  \n",
       "4             Benjamin Spock                Positive, Family, Trust  \n",
       "5             Michael Jordan      Inspirational, Life, Motivational  \n",
       "...                      ...                                    ...  \n",
       "996         Sydney J. Harris      Love, Inspirational, Motivational  \n",
       "997       Hunter S. Thompson                 Gun, Two, Qualms About  \n",
       "998                 Jim Rohn  Inspirational, Greatness, Best Effort  \n",
       "999                 Ram Dass                 Spiritual, Truth, Yoga  \n",
       "1000                Plutarch   Inspirational, Leadership, Education  \n",
       "\n",
       "[1000 rows x 3 columns]"
      ]
     },
     "execution_count": 188,
     "metadata": {},
     "output_type": "execute_result"
    }
   ],
   "source": [
    "df= pd.DataFrame({'Qoute':titles, 'Author':author, 'Type Of Qoute':type})\n",
    "df.index+=1\n",
    "df"
   ]
  },
  {
   "cell_type": "code",
   "execution_count": null,
   "id": "f8334a84",
   "metadata": {},
   "outputs": [],
   "source": [
    "\n",
    "\n"
   ]
  },
  {
   "cell_type": "markdown",
   "id": "c9059982",
   "metadata": {},
   "source": [
    "# Q. 7 Prime Mministers Of INDIA"
   ]
  },
  {
   "cell_type": "code",
   "execution_count": 1,
   "id": "789197c8",
   "metadata": {},
   "outputs": [],
   "source": [
    "#importing all required liabraries \n",
    "\n",
    "import selenium \n",
    "import pandas as pd\n",
    "from selenium import webdriver\n",
    "import warnings\n",
    "warnings.filterwarnings('ignore')\n",
    "from selenium.webdriver.common.by import By\n",
    "import time"
   ]
  },
  {
   "cell_type": "code",
   "execution_count": 2,
   "id": "a59b6847",
   "metadata": {},
   "outputs": [],
   "source": [
    "driver = webdriver.Chrome()\n",
    "driver.get('https://www.jagranjosh.com/general-knowledge/list-of-all-prime-ministers-of-india-1473165149-1')\n"
   ]
  },
  {
   "cell_type": "code",
   "execution_count": 74,
   "id": "1db432c5",
   "metadata": {},
   "outputs": [
    {
     "name": "stdout",
     "output_type": "stream",
     "text": [
      "Jawahar Lal Nehru\n",
      "Gulzarilal Nanda (Acting)\n",
      "Lal Bahadur Shastri\n",
      "Gulzari Lal Nanda  (Acting)\n",
      "Indira Gandhi\n",
      "Morarji Desai\n",
      "Charan Singh\n",
      "Indira Gandhi\n",
      "Rajiv Gandhi\n",
      "V. P. Singh\n",
      "Chandra Shekhar\n",
      "P. V. Narasimha Rao\n",
      "Atal Bihari Vajpayee\n",
      "H. D. Deve Gowda\n",
      "Inder Kumar Gujral\n",
      "Atal Bihari Vajpayee\n",
      "Manmohan Singh\n",
      "Narendra Modi\n",
      "Narendra Modi\n"
     ]
    }
   ],
   "source": [
    "# Find the table containing the Prime Ministers\n",
    "table = driver.find_element(By.XPATH, '//*[@class=\"TableData\"]//table')\n",
    "\n",
    "# Get all rows in the table\n",
    "rows = table.find_elements(By.TAG_NAME, 'tr')\n",
    "\n",
    "# Extract the names from each row\n",
    "names = []\n",
    "for row in rows[1:]:  # Skip the header row\n",
    "    cells = row.find_elements(By.TAG_NAME, 'td')\n",
    "    if cells:\n",
    "        name = cells[1].text.strip()  # Assuming the name is in the second column\n",
    "        names.append(name)\n",
    "\n",
    "# Print all extracted names\n",
    "# for name in names:\n",
    "    print(name)"
   ]
  },
  {
   "cell_type": "code",
   "execution_count": 57,
   "id": "5e490282",
   "metadata": {},
   "outputs": [
    {
     "data": {
      "text/plain": [
       "['(1889–1964)',\n",
       " '(1898-1998)',\n",
       " '(1904–1966)',\n",
       " '(1898-1998)',\n",
       " '(1917–1984)',\n",
       " '(1896–1995)',\n",
       " '(1902–1987)',\n",
       " '(1917–1984)',\n",
       " '(1944–1991)',\n",
       " '(1931–2008)',\n",
       " '(1927–2007)',\n",
       " '(1921–2004)',\n",
       " '(1924- 2018)',\n",
       " '(born 1933)',\n",
       " '(1919–2012)',\n",
       " '(1924-2018)',\n",
       " '(born 1932)',\n",
       " '(born 1950)',\n",
       " '(born 1950)']"
      ]
     },
     "execution_count": 57,
     "metadata": {},
     "output_type": "execute_result"
    }
   ],
   "source": [
    "time = driver.find_elements(By.XPATH,'//div[@class=\"TableData\"]//table/tbody/tr/td[3]')\n",
    "times =[]\n",
    "\n",
    "for i in time:\n",
    "    times.append(i.text)\n",
    "    \n",
    "times"
   ]
  },
  {
   "cell_type": "code",
   "execution_count": 49,
   "id": "310f961c",
   "metadata": {},
   "outputs": [
    {
     "data": {
      "text/plain": [
       "19"
      ]
     },
     "execution_count": 49,
     "metadata": {},
     "output_type": "execute_result"
    }
   ],
   "source": [
    "#extracting the data\n",
    "term_elements = driver.find_elements(By.XPATH, '//div[@class=\"TableData\"]//table/tbody/tr/td[4]')\n",
    "\n",
    "\n",
    "terms_of_office = []\n",
    "for i in term_elements:\n",
    "   \n",
    "    term_text = \" \".join(i.text.split())\n",
    "    terms_of_office.append(term_text)\n",
    "    \n",
    "len(terms_of_office)"
   ]
  },
  {
   "cell_type": "code",
   "execution_count": 51,
   "id": "541d8f47",
   "metadata": {
    "scrolled": true
   },
   "outputs": [
    {
     "data": {
      "text/plain": [
       "19"
      ]
     },
     "execution_count": 51,
     "metadata": {},
     "output_type": "execute_result"
    }
   ],
   "source": [
    "remark = driver.find_elements(By.XPATH,'//div[@class=\"TableData\"]//table/tbody/tr/td[5]')\n",
    "\n",
    "remarks = []\n",
    "\n",
    "for i in remark:\n",
    "    remarks.append(i.text)\n",
    "# checking length   \n",
    "len(remarks)"
   ]
  },
  {
   "cell_type": "code",
   "execution_count": 79,
   "id": "fc699ed9",
   "metadata": {
    "scrolled": true
   },
   "outputs": [
    {
     "data": {
      "text/html": [
       "<div>\n",
       "<style scoped>\n",
       "    .dataframe tbody tr th:only-of-type {\n",
       "        vertical-align: middle;\n",
       "    }\n",
       "\n",
       "    .dataframe tbody tr th {\n",
       "        vertical-align: top;\n",
       "    }\n",
       "\n",
       "    .dataframe thead th {\n",
       "        text-align: right;\n",
       "    }\n",
       "</style>\n",
       "<table border=\"1\" class=\"dataframe\">\n",
       "  <thead>\n",
       "    <tr style=\"text-align: right;\">\n",
       "      <th></th>\n",
       "      <th>Name</th>\n",
       "      <th>Born - Death</th>\n",
       "      <th>Term Of office</th>\n",
       "      <th>Remarks</th>\n",
       "    </tr>\n",
       "  </thead>\n",
       "  <tbody>\n",
       "    <tr>\n",
       "      <th>1</th>\n",
       "      <td>Jawahar Lal Nehru</td>\n",
       "      <td>(1889–1964)</td>\n",
       "      <td>(1889–1964)</td>\n",
       "      <td>The first prime minister of India and the long...</td>\n",
       "    </tr>\n",
       "    <tr>\n",
       "      <th>2</th>\n",
       "      <td>Gulzarilal Nanda (Acting)</td>\n",
       "      <td>(1898-1998)</td>\n",
       "      <td>(1898-1998)</td>\n",
       "      <td>First acting PM of India</td>\n",
       "    </tr>\n",
       "    <tr>\n",
       "      <th>3</th>\n",
       "      <td>Lal Bahadur Shastri</td>\n",
       "      <td>(1904–1966)</td>\n",
       "      <td>(1904–1966)</td>\n",
       "      <td>He has given the slogan of 'Jai Jawan Jai Kisa...</td>\n",
       "    </tr>\n",
       "    <tr>\n",
       "      <th>4</th>\n",
       "      <td>Gulzari Lal Nanda  (Acting)</td>\n",
       "      <td>(1898-1998)</td>\n",
       "      <td>(1898-1998)</td>\n",
       "      <td>-</td>\n",
       "    </tr>\n",
       "    <tr>\n",
       "      <th>5</th>\n",
       "      <td>Indira Gandhi</td>\n",
       "      <td>(1917–1984)</td>\n",
       "      <td>(1917–1984)</td>\n",
       "      <td>First female Prime Minister of India</td>\n",
       "    </tr>\n",
       "    <tr>\n",
       "      <th>6</th>\n",
       "      <td>Morarji Desai</td>\n",
       "      <td>(1896–1995)</td>\n",
       "      <td>(1896–1995)</td>\n",
       "      <td>Oldest to become PM (81 years old) and first t...</td>\n",
       "    </tr>\n",
       "    <tr>\n",
       "      <th>7</th>\n",
       "      <td>Charan Singh</td>\n",
       "      <td>(1902–1987)</td>\n",
       "      <td>(1902–1987)</td>\n",
       "      <td>Only PM who did not face the Parliament</td>\n",
       "    </tr>\n",
       "    <tr>\n",
       "      <th>8</th>\n",
       "      <td>Indira Gandhi</td>\n",
       "      <td>(1917–1984)</td>\n",
       "      <td>(1917–1984)</td>\n",
       "      <td>The first lady who served as PM for the second...</td>\n",
       "    </tr>\n",
       "    <tr>\n",
       "      <th>9</th>\n",
       "      <td>Rajiv Gandhi</td>\n",
       "      <td>(1944–1991)</td>\n",
       "      <td>(1944–1991)</td>\n",
       "      <td>Youngest to become PM (40 years old)</td>\n",
       "    </tr>\n",
       "    <tr>\n",
       "      <th>10</th>\n",
       "      <td>V. P. Singh</td>\n",
       "      <td>(1931–2008)</td>\n",
       "      <td>(1931–2008)</td>\n",
       "      <td>First PM to step down after a vote of no confi...</td>\n",
       "    </tr>\n",
       "    <tr>\n",
       "      <th>11</th>\n",
       "      <td>Chandra Shekhar</td>\n",
       "      <td>(1927–2007)</td>\n",
       "      <td>(1927–2007)</td>\n",
       "      <td>He belongs to  Samajwadi Janata Party</td>\n",
       "    </tr>\n",
       "    <tr>\n",
       "      <th>12</th>\n",
       "      <td>P. V. Narasimha Rao</td>\n",
       "      <td>(1921–2004)</td>\n",
       "      <td>(1921–2004)</td>\n",
       "      <td>First PM from South India</td>\n",
       "    </tr>\n",
       "    <tr>\n",
       "      <th>13</th>\n",
       "      <td>Atal Bihari Vajpayee</td>\n",
       "      <td>(1924- 2018)</td>\n",
       "      <td>(1924- 2018)</td>\n",
       "      <td>PM for shortest tenure</td>\n",
       "    </tr>\n",
       "    <tr>\n",
       "      <th>14</th>\n",
       "      <td>H. D. Deve Gowda</td>\n",
       "      <td>(born 1933)</td>\n",
       "      <td>(born 1933)</td>\n",
       "      <td>He belongs to  Janata Dal</td>\n",
       "    </tr>\n",
       "    <tr>\n",
       "      <th>15</th>\n",
       "      <td>Inder Kumar Gujral</td>\n",
       "      <td>(1919–2012)</td>\n",
       "      <td>(1919–2012)</td>\n",
       "      <td>------</td>\n",
       "    </tr>\n",
       "    <tr>\n",
       "      <th>16</th>\n",
       "      <td>Atal Bihari Vajpayee</td>\n",
       "      <td>(1924-2018)</td>\n",
       "      <td>(1924-2018)</td>\n",
       "      <td>The first non-congress PM who completed a ful...</td>\n",
       "    </tr>\n",
       "    <tr>\n",
       "      <th>17</th>\n",
       "      <td>Manmohan Singh</td>\n",
       "      <td>(born 1932)</td>\n",
       "      <td>(born 1932)</td>\n",
       "      <td>First Sikh PM</td>\n",
       "    </tr>\n",
       "    <tr>\n",
       "      <th>18</th>\n",
       "      <td>Narendra Modi</td>\n",
       "      <td>(born 1950)</td>\n",
       "      <td>(born 1950)</td>\n",
       "      <td>4th Prime Minister of India who served two con...</td>\n",
       "    </tr>\n",
       "    <tr>\n",
       "      <th>19</th>\n",
       "      <td>Narendra Modi</td>\n",
       "      <td>(born 1950)</td>\n",
       "      <td>(born 1950)</td>\n",
       "      <td>First non-congress PM with two consecutive ten...</td>\n",
       "    </tr>\n",
       "  </tbody>\n",
       "</table>\n",
       "</div>"
      ],
      "text/plain": [
       "                           Name  Born - Death Term Of office  \\\n",
       "1             Jawahar Lal Nehru   (1889–1964)    (1889–1964)   \n",
       "2     Gulzarilal Nanda (Acting)   (1898-1998)    (1898-1998)   \n",
       "3           Lal Bahadur Shastri   (1904–1966)    (1904–1966)   \n",
       "4   Gulzari Lal Nanda  (Acting)   (1898-1998)    (1898-1998)   \n",
       "5                 Indira Gandhi   (1917–1984)    (1917–1984)   \n",
       "6                 Morarji Desai   (1896–1995)    (1896–1995)   \n",
       "7                  Charan Singh   (1902–1987)    (1902–1987)   \n",
       "8                 Indira Gandhi   (1917–1984)    (1917–1984)   \n",
       "9                  Rajiv Gandhi   (1944–1991)    (1944–1991)   \n",
       "10                  V. P. Singh   (1931–2008)    (1931–2008)   \n",
       "11              Chandra Shekhar   (1927–2007)    (1927–2007)   \n",
       "12          P. V. Narasimha Rao   (1921–2004)    (1921–2004)   \n",
       "13         Atal Bihari Vajpayee  (1924- 2018)   (1924- 2018)   \n",
       "14             H. D. Deve Gowda   (born 1933)    (born 1933)   \n",
       "15           Inder Kumar Gujral   (1919–2012)    (1919–2012)   \n",
       "16         Atal Bihari Vajpayee   (1924-2018)    (1924-2018)   \n",
       "17               Manmohan Singh   (born 1932)    (born 1932)   \n",
       "18                Narendra Modi   (born 1950)    (born 1950)   \n",
       "19                Narendra Modi   (born 1950)    (born 1950)   \n",
       "\n",
       "                                              Remarks  \n",
       "1   The first prime minister of India and the long...  \n",
       "2                            First acting PM of India  \n",
       "3   He has given the slogan of 'Jai Jawan Jai Kisa...  \n",
       "4                                                   -  \n",
       "5                First female Prime Minister of India  \n",
       "6   Oldest to become PM (81 years old) and first t...  \n",
       "7             Only PM who did not face the Parliament  \n",
       "8   The first lady who served as PM for the second...  \n",
       "9                Youngest to become PM (40 years old)  \n",
       "10  First PM to step down after a vote of no confi...  \n",
       "11              He belongs to  Samajwadi Janata Party  \n",
       "12                          First PM from South India  \n",
       "13                             PM for shortest tenure  \n",
       "14                          He belongs to  Janata Dal  \n",
       "15                                             ------  \n",
       "16   The first non-congress PM who completed a ful...  \n",
       "17                                      First Sikh PM  \n",
       "18  4th Prime Minister of India who served two con...  \n",
       "19  First non-congress PM with two consecutive ten...  "
      ]
     },
     "execution_count": 79,
     "metadata": {},
     "output_type": "execute_result"
    }
   ],
   "source": [
    "df= pd.DataFrame ({'Name':names, 'Born - Death':times, 'Term Of office':times, 'Remarks':remarks})\n",
    "df.index+=1\n",
    "df"
   ]
  },
  {
   "cell_type": "code",
   "execution_count": null,
   "id": "bc210cab",
   "metadata": {},
   "outputs": [],
   "source": [
    "\n"
   ]
  },
  {
   "cell_type": "markdown",
   "id": "eba41be7",
   "metadata": {},
   "source": [
    "# Q.8 50 Most Expensive Cars"
   ]
  },
  {
   "cell_type": "code",
   "execution_count": null,
   "id": "5ac9d1eb",
   "metadata": {},
   "outputs": [],
   "source": [
    "#importing all required liabraries \n",
    "\n",
    "import selenium \n",
    "import pandas as pd\n",
    "from selenium import webdriver\n",
    "import warnings\n",
    "warnings.filterwarnings('ignore')\n",
    "from selenium.webdriver.common.by import By\n",
    "import time"
   ]
  },
  {
   "cell_type": "code",
   "execution_count": 80,
   "id": "00456ca9",
   "metadata": {},
   "outputs": [],
   "source": [
    "#Opening Chrome And Website to Scrape Data\n",
    "\n",
    "driver= webdriver.Chrome()\n",
    "driver.get('https://www.motor1.com/')"
   ]
  },
  {
   "cell_type": "code",
   "execution_count": 86,
   "id": "6a3def72",
   "metadata": {},
   "outputs": [],
   "source": [
    "#giving input \n",
    "\n",
    "search = driver.find_element(By.XPATH,'/html/body/div[9]/div[2]/div/div/div[3]/div/div/div/form/input')\n",
    "search.send_keys('50 most expensive cars')"
   ]
  },
  {
   "cell_type": "code",
   "execution_count": 88,
   "id": "8db3e611",
   "metadata": {},
   "outputs": [],
   "source": [
    "#clicking on search button\n",
    "\n",
    "click = driver.find_element(By.XPATH,'/html/body/div[9]/div[2]/div/div/div[3]/div/div/div/form/button[1]')\n",
    "click.click()"
   ]
  },
  {
   "cell_type": "code",
   "execution_count": 89,
   "id": "fb122325",
   "metadata": {},
   "outputs": [],
   "source": [
    "click1 = driver.find_element(By.XPATH,'/html/body/div[9]/div[9]/div/div[1]/div/div/div[1]/div/div[1]/h3')\n",
    "click1.click()"
   ]
  },
  {
   "cell_type": "code",
   "execution_count": 104,
   "id": "a48bdd42",
   "metadata": {},
   "outputs": [
    {
     "data": {
      "text/plain": [
       "50"
      ]
     },
     "execution_count": 104,
     "metadata": {},
     "output_type": "execute_result"
    }
   ],
   "source": [
    "#extracting the car names\n",
    "\n",
    "car_name = driver.find_elements(By.XPATH,'//h3[@class=\"subheader\"]')\n",
    "car_names = []\n",
    "\n",
    "for i in car_name[:50]:\n",
    "    car_names.append(i.text)\n",
    "len(car_names)"
   ]
  },
  {
   "cell_type": "code",
   "execution_count": 103,
   "id": "27f7039b",
   "metadata": {},
   "outputs": [
    {
     "data": {
      "text/plain": [
       "50"
      ]
     },
     "execution_count": 103,
     "metadata": {},
     "output_type": "execute_result"
    }
   ],
   "source": [
    "#extracting the prices\n",
    "\n",
    "price = driver.find_elements(By.XPATH,'//p/strong')\n",
    "prices =[]\n",
    "\n",
    "for i in price:\n",
    "    text1= i.text.replace(\"Price: \", \"\").strip()\n",
    "    prices.append(text1)\n",
    "\n",
    "len(prices)"
   ]
  },
  {
   "cell_type": "code",
   "execution_count": 105,
   "id": "203eb073",
   "metadata": {},
   "outputs": [
    {
     "data": {
      "text/html": [
       "<div>\n",
       "<style scoped>\n",
       "    .dataframe tbody tr th:only-of-type {\n",
       "        vertical-align: middle;\n",
       "    }\n",
       "\n",
       "    .dataframe tbody tr th {\n",
       "        vertical-align: top;\n",
       "    }\n",
       "\n",
       "    .dataframe thead th {\n",
       "        text-align: right;\n",
       "    }\n",
       "</style>\n",
       "<table border=\"1\" class=\"dataframe\">\n",
       "  <thead>\n",
       "    <tr style=\"text-align: right;\">\n",
       "      <th></th>\n",
       "      <th>Car Name</th>\n",
       "      <th>Price</th>\n",
       "    </tr>\n",
       "  </thead>\n",
       "  <tbody>\n",
       "    <tr>\n",
       "      <th>1</th>\n",
       "      <td>Aston Martin Valour</td>\n",
       "      <td>$1.5 Million</td>\n",
       "    </tr>\n",
       "    <tr>\n",
       "      <th>2</th>\n",
       "      <td>McLaren Elva</td>\n",
       "      <td>$1.7 Million</td>\n",
       "    </tr>\n",
       "    <tr>\n",
       "      <th>3</th>\n",
       "      <td>Czinger 21C</td>\n",
       "      <td>$1.7 Million</td>\n",
       "    </tr>\n",
       "    <tr>\n",
       "      <th>4</th>\n",
       "      <td>Ferrari Monza</td>\n",
       "      <td>$1.7 Million</td>\n",
       "    </tr>\n",
       "    <tr>\n",
       "      <th>5</th>\n",
       "      <td>Gordon Murray T.33</td>\n",
       "      <td>$1.7 Million</td>\n",
       "    </tr>\n",
       "    <tr>\n",
       "      <th>6</th>\n",
       "      <td>Koenigsegg Gemera</td>\n",
       "      <td>$1.7 Million</td>\n",
       "    </tr>\n",
       "    <tr>\n",
       "      <th>7</th>\n",
       "      <td>Zenvo TSR-S</td>\n",
       "      <td>$1.7 Million</td>\n",
       "    </tr>\n",
       "    <tr>\n",
       "      <th>8</th>\n",
       "      <td>Hennessey Venom F5</td>\n",
       "      <td>$1.8 Million</td>\n",
       "    </tr>\n",
       "    <tr>\n",
       "      <th>9</th>\n",
       "      <td>Bentley Bacalar</td>\n",
       "      <td>$1.9 Million</td>\n",
       "    </tr>\n",
       "    <tr>\n",
       "      <th>10</th>\n",
       "      <td>Hispano Suiza Carmen Boulogne</td>\n",
       "      <td>$1.9 Million</td>\n",
       "    </tr>\n",
       "    <tr>\n",
       "      <th>11</th>\n",
       "      <td>Bentley Mulliner Batur</td>\n",
       "      <td>$2.0 Million</td>\n",
       "    </tr>\n",
       "    <tr>\n",
       "      <th>12</th>\n",
       "      <td>Deus Vayanne</td>\n",
       "      <td>$2.0 Million</td>\n",
       "    </tr>\n",
       "    <tr>\n",
       "      <th>13</th>\n",
       "      <td>SSC Tuatara</td>\n",
       "      <td>$2.0 Million</td>\n",
       "    </tr>\n",
       "    <tr>\n",
       "      <th>14</th>\n",
       "      <td>Lotus Evija</td>\n",
       "      <td>$2.1 Million</td>\n",
       "    </tr>\n",
       "    <tr>\n",
       "      <th>15</th>\n",
       "      <td>Aston Martin Vulcan</td>\n",
       "      <td>$2.3 Million</td>\n",
       "    </tr>\n",
       "    <tr>\n",
       "      <th>16</th>\n",
       "      <td>Delage D12</td>\n",
       "      <td>$2.3 Million</td>\n",
       "    </tr>\n",
       "    <tr>\n",
       "      <th>17</th>\n",
       "      <td>Ferrari Daytona SP3</td>\n",
       "      <td>$2.3 Million</td>\n",
       "    </tr>\n",
       "    <tr>\n",
       "      <th>18</th>\n",
       "      <td>McLaren Speedtail</td>\n",
       "      <td>$2.3 Million</td>\n",
       "    </tr>\n",
       "    <tr>\n",
       "      <th>19</th>\n",
       "      <td>Rimac Nevera</td>\n",
       "      <td>$2.4 Million</td>\n",
       "    </tr>\n",
       "    <tr>\n",
       "      <th>20</th>\n",
       "      <td>Pagani Utopia</td>\n",
       "      <td>$2.5 Million</td>\n",
       "    </tr>\n",
       "    <tr>\n",
       "      <th>21</th>\n",
       "      <td>Pininfarina Battista</td>\n",
       "      <td>$2.5 Million</td>\n",
       "    </tr>\n",
       "    <tr>\n",
       "      <th>22</th>\n",
       "      <td>Gordon Murray T.50</td>\n",
       "      <td>$2.6 Million</td>\n",
       "    </tr>\n",
       "    <tr>\n",
       "      <th>23</th>\n",
       "      <td>Lamborghini Countach</td>\n",
       "      <td>$2.6 Million</td>\n",
       "    </tr>\n",
       "    <tr>\n",
       "      <th>24</th>\n",
       "      <td>Mercedes-AMG Project One</td>\n",
       "      <td>$2.7 Million</td>\n",
       "    </tr>\n",
       "    <tr>\n",
       "      <th>25</th>\n",
       "      <td>Zenvo Aurora</td>\n",
       "      <td>$2.8 Million</td>\n",
       "    </tr>\n",
       "    <tr>\n",
       "      <th>26</th>\n",
       "      <td>Aston Martin Victor</td>\n",
       "      <td>$3.0 Million</td>\n",
       "    </tr>\n",
       "    <tr>\n",
       "      <th>27</th>\n",
       "      <td>Hennessey Venom F5 Roadster</td>\n",
       "      <td>$3.0 Million</td>\n",
       "    </tr>\n",
       "    <tr>\n",
       "      <th>28</th>\n",
       "      <td>Koenigsegg Jesko</td>\n",
       "      <td>$3.0 Million</td>\n",
       "    </tr>\n",
       "    <tr>\n",
       "      <th>29</th>\n",
       "      <td>Aston Martin Valkyrie</td>\n",
       "      <td>$3.2 Million</td>\n",
       "    </tr>\n",
       "    <tr>\n",
       "      <th>30</th>\n",
       "      <td>W Motors Lykan Hypersport</td>\n",
       "      <td>$3.4 Million</td>\n",
       "    </tr>\n",
       "    <tr>\n",
       "      <th>31</th>\n",
       "      <td>McLaren Solus</td>\n",
       "      <td>$3.5 Million</td>\n",
       "    </tr>\n",
       "    <tr>\n",
       "      <th>32</th>\n",
       "      <td>Lamborghini Sian</td>\n",
       "      <td>$3.6 million</td>\n",
       "    </tr>\n",
       "    <tr>\n",
       "      <th>33</th>\n",
       "      <td>Koenigsegg CC850</td>\n",
       "      <td>$3.7 Million</td>\n",
       "    </tr>\n",
       "    <tr>\n",
       "      <th>34</th>\n",
       "      <td>Bugatti Chiron Super Sport 300+</td>\n",
       "      <td>$3.9 Million</td>\n",
       "    </tr>\n",
       "    <tr>\n",
       "      <th>35</th>\n",
       "      <td>Lamborghini Veneno</td>\n",
       "      <td>$4.5 Million</td>\n",
       "    </tr>\n",
       "    <tr>\n",
       "      <th>36</th>\n",
       "      <td>Bugatti Bolide</td>\n",
       "      <td>$4.7 Million</td>\n",
       "    </tr>\n",
       "    <tr>\n",
       "      <th>37</th>\n",
       "      <td>Pininfarina B95 Speedster</td>\n",
       "      <td>$4.8 Million</td>\n",
       "    </tr>\n",
       "    <tr>\n",
       "      <th>38</th>\n",
       "      <td>Bugatti Mistral</td>\n",
       "      <td>$5.0 Million</td>\n",
       "    </tr>\n",
       "    <tr>\n",
       "      <th>39</th>\n",
       "      <td>Pagani Huayra Imola</td>\n",
       "      <td>$5.4 Million</td>\n",
       "    </tr>\n",
       "    <tr>\n",
       "      <th>40</th>\n",
       "      <td>Bugatti Divo</td>\n",
       "      <td>$5.8 Million</td>\n",
       "    </tr>\n",
       "    <tr>\n",
       "      <th>41</th>\n",
       "      <td>SP Automotive Chaos</td>\n",
       "      <td>$6.4 Million</td>\n",
       "    </tr>\n",
       "    <tr>\n",
       "      <th>42</th>\n",
       "      <td>Pagani Codalunga</td>\n",
       "      <td>$7.4 Million</td>\n",
       "    </tr>\n",
       "    <tr>\n",
       "      <th>43</th>\n",
       "      <td>777 Hypercar</td>\n",
       "      <td>$7.5 Million</td>\n",
       "    </tr>\n",
       "    <tr>\n",
       "      <th>44</th>\n",
       "      <td>Mercedes-Maybach Exelero</td>\n",
       "      <td>$8.0 Million</td>\n",
       "    </tr>\n",
       "    <tr>\n",
       "      <th>45</th>\n",
       "      <td>Bugatti Centodieci</td>\n",
       "      <td>$9.0 Million</td>\n",
       "    </tr>\n",
       "    <tr>\n",
       "      <th>46</th>\n",
       "      <td>Bugatti Chiron Profilée</td>\n",
       "      <td>$10.8 Million</td>\n",
       "    </tr>\n",
       "    <tr>\n",
       "      <th>47</th>\n",
       "      <td>Rolls-Royce Sweptail</td>\n",
       "      <td>$12.8 Million</td>\n",
       "    </tr>\n",
       "    <tr>\n",
       "      <th>48</th>\n",
       "      <td>Bugatti La Voiture Noire</td>\n",
       "      <td>$13.4 Million</td>\n",
       "    </tr>\n",
       "    <tr>\n",
       "      <th>49</th>\n",
       "      <td>Rolls-Royce Boat Tail*</td>\n",
       "      <td>$28.0 Million (est.)</td>\n",
       "    </tr>\n",
       "    <tr>\n",
       "      <th>50</th>\n",
       "      <td>Rolls-Royce La Rose Noire Droptail</td>\n",
       "      <td>$30 Million (est.)</td>\n",
       "    </tr>\n",
       "  </tbody>\n",
       "</table>\n",
       "</div>"
      ],
      "text/plain": [
       "                              Car Name                 Price\n",
       "1                  Aston Martin Valour          $1.5 Million\n",
       "2                         McLaren Elva          $1.7 Million\n",
       "3                          Czinger 21C          $1.7 Million\n",
       "4                        Ferrari Monza          $1.7 Million\n",
       "5                   Gordon Murray T.33          $1.7 Million\n",
       "6                    Koenigsegg Gemera          $1.7 Million\n",
       "7                          Zenvo TSR-S          $1.7 Million\n",
       "8                   Hennessey Venom F5          $1.8 Million\n",
       "9                      Bentley Bacalar          $1.9 Million\n",
       "10       Hispano Suiza Carmen Boulogne          $1.9 Million\n",
       "11              Bentley Mulliner Batur          $2.0 Million\n",
       "12                        Deus Vayanne          $2.0 Million\n",
       "13                         SSC Tuatara          $2.0 Million\n",
       "14                         Lotus Evija          $2.1 Million\n",
       "15                 Aston Martin Vulcan          $2.3 Million\n",
       "16                          Delage D12          $2.3 Million\n",
       "17                 Ferrari Daytona SP3          $2.3 Million\n",
       "18                   McLaren Speedtail          $2.3 Million\n",
       "19                        Rimac Nevera          $2.4 Million\n",
       "20                       Pagani Utopia          $2.5 Million\n",
       "21                Pininfarina Battista          $2.5 Million\n",
       "22                  Gordon Murray T.50          $2.6 Million\n",
       "23                Lamborghini Countach          $2.6 Million\n",
       "24            Mercedes-AMG Project One          $2.7 Million\n",
       "25                        Zenvo Aurora          $2.8 Million\n",
       "26                 Aston Martin Victor          $3.0 Million\n",
       "27         Hennessey Venom F5 Roadster          $3.0 Million\n",
       "28                    Koenigsegg Jesko          $3.0 Million\n",
       "29               Aston Martin Valkyrie          $3.2 Million\n",
       "30           W Motors Lykan Hypersport          $3.4 Million\n",
       "31                       McLaren Solus          $3.5 Million\n",
       "32                    Lamborghini Sian          $3.6 million\n",
       "33                    Koenigsegg CC850          $3.7 Million\n",
       "34     Bugatti Chiron Super Sport 300+          $3.9 Million\n",
       "35                  Lamborghini Veneno          $4.5 Million\n",
       "36                      Bugatti Bolide          $4.7 Million\n",
       "37           Pininfarina B95 Speedster          $4.8 Million\n",
       "38                     Bugatti Mistral          $5.0 Million\n",
       "39                 Pagani Huayra Imola          $5.4 Million\n",
       "40                        Bugatti Divo          $5.8 Million\n",
       "41                 SP Automotive Chaos          $6.4 Million\n",
       "42                    Pagani Codalunga          $7.4 Million\n",
       "43                        777 Hypercar          $7.5 Million\n",
       "44            Mercedes-Maybach Exelero          $8.0 Million\n",
       "45                  Bugatti Centodieci          $9.0 Million\n",
       "46             Bugatti Chiron Profilée         $10.8 Million\n",
       "47                Rolls-Royce Sweptail         $12.8 Million\n",
       "48            Bugatti La Voiture Noire         $13.4 Million\n",
       "49              Rolls-Royce Boat Tail*  $28.0 Million (est.)\n",
       "50  Rolls-Royce La Rose Noire Droptail    $30 Million (est.)"
      ]
     },
     "execution_count": 105,
     "metadata": {},
     "output_type": "execute_result"
    }
   ],
   "source": [
    "df= pd.DataFrame({'Car Name':car_names, 'Price': prices})\n",
    "df.index+=1\n",
    "df"
   ]
  },
  {
   "cell_type": "code",
   "execution_count": null,
   "id": "0f904795",
   "metadata": {},
   "outputs": [],
   "source": []
  }
 ],
 "metadata": {
  "kernelspec": {
   "display_name": "Python 3 (ipykernel)",
   "language": "python",
   "name": "python3"
  },
  "language_info": {
   "codemirror_mode": {
    "name": "ipython",
    "version": 3
   },
   "file_extension": ".py",
   "mimetype": "text/x-python",
   "name": "python",
   "nbconvert_exporter": "python",
   "pygments_lexer": "ipython3",
   "version": "3.11.4"
  }
 },
 "nbformat": 4,
 "nbformat_minor": 5
}
